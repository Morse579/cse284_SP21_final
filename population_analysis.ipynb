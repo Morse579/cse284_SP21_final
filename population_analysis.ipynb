{
 "cells": [
  {
   "cell_type": "code",
   "execution_count": 106,
   "metadata": {},
   "outputs": [],
   "source": [
    "import numpy as np\n",
    "import os\n",
    "import pandas as pd\n",
    "from sklearn import svm\n",
    "import time\n",
    "import warnings\n",
    "warnings.filterwarnings(\"ignore\")"
   ]
  },
  {
   "cell_type": "markdown",
   "metadata": {},
   "source": [
    "# Data processing"
   ]
  },
  {
   "cell_type": "markdown",
   "metadata": {},
   "source": [
    "## Data Description\n"
   ]
  },
  {
   "cell_type": "markdown",
   "metadata": {},
   "source": [
    "Due to the limited computational resource, we focus on chromosome 16 with only one alternative allele.<br>\n",
    "We transform data into datafram. Each column is the position of SNPs and each row is the sample ID. We category total 26 groups into 6 ancestry group and replace each ancestry group with number 1-6.<br>\n",
    "We only care about where mutation appear for each sample. So, we replace 0 (homozygous reference) to 0 (no variant), and 1 or 2(heterozygous and homozygous non-reference) to 1 (variant) for each position through all samples."
   ]
  },
  {
   "cell_type": "code",
   "execution_count": 2,
   "metadata": {},
   "outputs": [],
   "source": [
    "%%bash\n",
    "\n",
    "#file=/datasets/cs284-sp21-A00-public/ps2/ps2_pca.genotypes.vcf.gz\n",
    "\n",
    "#zcat $file | head -253 | tail -1 > data/snps_sample.tab\n",
    "\n",
    "#bcftools query -e'AF<0.01' -e'AF>0.99' -e'MAF>0.1' -f \"%CHROM %POS [%GT\\t]\\n\" $file | \\\n",
    "#  sed 's/0|0/0/g' | sed 's/0|1/1/g' | sed 's/1|0/1/g' | sed 's/1|1/2/g' | \\\n",
    "#  grep -v \"|\" \\\n",
    "#  > data/snps.tab"
   ]
  },
  {
   "cell_type": "code",
   "execution_count": 107,
   "metadata": {},
   "outputs": [],
   "source": [
    "temp = []\n",
    "with open(\"data/snps.tab\", \"r\") as f:\n",
    "    for line in f:\n",
    "        #read line \n",
    "        sample = line.strip().split()\n",
    "        temp.append(sample)\n",
    "samples = []\n",
    "with open(\"data/snps_sample.tab\", \"r\") as f:\n",
    "    for line in f:\n",
    "        samples = line.strip().split()"
   ]
  },
  {
   "cell_type": "code",
   "execution_count": 108,
   "metadata": {},
   "outputs": [],
   "source": [
    "cols = [\"CHROM\",\"POS\"]\n",
    "cols = cols+samples[9:]"
   ]
  },
  {
   "cell_type": "code",
   "execution_count": 109,
   "metadata": {},
   "outputs": [],
   "source": [
    "snps = pd.DataFrame(temp, columns=cols)"
   ]
  },
  {
   "cell_type": "code",
   "execution_count": 110,
   "metadata": {},
   "outputs": [],
   "source": [
    "snps[\"SNPs_POS\"] = \"chr\"+snps[\"CHROM\"] +\":\"+snps[\"POS\"]"
   ]
  },
  {
   "cell_type": "code",
   "execution_count": 111,
   "metadata": {},
   "outputs": [],
   "source": [
    "snps = snps.iloc[:,2:]\n",
    "snps = snps.set_index('SNPs_POS')"
   ]
  },
  {
   "cell_type": "code",
   "execution_count": 112,
   "metadata": {},
   "outputs": [],
   "source": [
    "snps = snps.transpose()"
   ]
  },
  {
   "cell_type": "code",
   "execution_count": 113,
   "metadata": {},
   "outputs": [],
   "source": [
    "temp = []\n",
    "temp2 = []\n",
    "with open(\"data/ps2_reference_labels.csv\", \"r\") as f:\n",
    "    for line in f:\n",
    "        s, pop = line.strip().split(\",\")\n",
    "        temp.append(pop)\n",
    "        temp2.append(s)"
   ]
  },
  {
   "cell_type": "code",
   "execution_count": 114,
   "metadata": {},
   "outputs": [],
   "source": [
    "snps = snps.drop([\"NA10847\",\"NA18923\",\"NA19700\"])"
   ]
  },
  {
   "cell_type": "code",
   "execution_count": 115,
   "metadata": {},
   "outputs": [],
   "source": [
    "snps[\"group_id\"] = temp"
   ]
  },
  {
   "cell_type": "code",
   "execution_count": 116,
   "metadata": {},
   "outputs": [
    {
     "data": {
      "text/html": [
       "<div>\n",
       "<style scoped>\n",
       "    .dataframe tbody tr th:only-of-type {\n",
       "        vertical-align: middle;\n",
       "    }\n",
       "\n",
       "    .dataframe tbody tr th {\n",
       "        vertical-align: top;\n",
       "    }\n",
       "\n",
       "    .dataframe thead th {\n",
       "        text-align: right;\n",
       "    }\n",
       "</style>\n",
       "<table border=\"1\" class=\"dataframe\">\n",
       "  <thead>\n",
       "    <tr style=\"text-align: right;\">\n",
       "      <th>SNPs_POS</th>\n",
       "      <th>chr16:88165</th>\n",
       "      <th>chr16:95254</th>\n",
       "      <th>chr16:97354</th>\n",
       "      <th>chr16:101263</th>\n",
       "      <th>chr16:103423</th>\n",
       "      <th>chr16:103456</th>\n",
       "      <th>chr16:105320</th>\n",
       "      <th>chr16:105444</th>\n",
       "      <th>chr16:107275</th>\n",
       "      <th>chr16:110165</th>\n",
       "      <th>...</th>\n",
       "      <th>chr16:90125947</th>\n",
       "      <th>chr16:90127080</th>\n",
       "      <th>chr16:90132786</th>\n",
       "      <th>chr16:90134325</th>\n",
       "      <th>chr16:90141355</th>\n",
       "      <th>chr16:90141477</th>\n",
       "      <th>chr16:90148979</th>\n",
       "      <th>chr16:90149922</th>\n",
       "      <th>chr16:90163275</th>\n",
       "      <th>group_id</th>\n",
       "    </tr>\n",
       "  </thead>\n",
       "  <tbody>\n",
       "    <tr>\n",
       "      <th>HG00096</th>\n",
       "      <td>0</td>\n",
       "      <td>0</td>\n",
       "      <td>0</td>\n",
       "      <td>1</td>\n",
       "      <td>1</td>\n",
       "      <td>0</td>\n",
       "      <td>1</td>\n",
       "      <td>1</td>\n",
       "      <td>1</td>\n",
       "      <td>1</td>\n",
       "      <td>...</td>\n",
       "      <td>0</td>\n",
       "      <td>0</td>\n",
       "      <td>0</td>\n",
       "      <td>0</td>\n",
       "      <td>2</td>\n",
       "      <td>2</td>\n",
       "      <td>2</td>\n",
       "      <td>0</td>\n",
       "      <td>2</td>\n",
       "      <td>GBR</td>\n",
       "    </tr>\n",
       "    <tr>\n",
       "      <th>HG00097</th>\n",
       "      <td>0</td>\n",
       "      <td>0</td>\n",
       "      <td>0</td>\n",
       "      <td>2</td>\n",
       "      <td>2</td>\n",
       "      <td>0</td>\n",
       "      <td>2</td>\n",
       "      <td>2</td>\n",
       "      <td>2</td>\n",
       "      <td>2</td>\n",
       "      <td>...</td>\n",
       "      <td>0</td>\n",
       "      <td>0</td>\n",
       "      <td>0</td>\n",
       "      <td>0</td>\n",
       "      <td>2</td>\n",
       "      <td>2</td>\n",
       "      <td>2</td>\n",
       "      <td>0</td>\n",
       "      <td>2</td>\n",
       "      <td>GBR</td>\n",
       "    </tr>\n",
       "    <tr>\n",
       "      <th>HG00099</th>\n",
       "      <td>0</td>\n",
       "      <td>0</td>\n",
       "      <td>0</td>\n",
       "      <td>2</td>\n",
       "      <td>2</td>\n",
       "      <td>0</td>\n",
       "      <td>2</td>\n",
       "      <td>2</td>\n",
       "      <td>2</td>\n",
       "      <td>2</td>\n",
       "      <td>...</td>\n",
       "      <td>0</td>\n",
       "      <td>1</td>\n",
       "      <td>0</td>\n",
       "      <td>0</td>\n",
       "      <td>0</td>\n",
       "      <td>2</td>\n",
       "      <td>2</td>\n",
       "      <td>1</td>\n",
       "      <td>2</td>\n",
       "      <td>GBR</td>\n",
       "    </tr>\n",
       "    <tr>\n",
       "      <th>HG00100</th>\n",
       "      <td>0</td>\n",
       "      <td>0</td>\n",
       "      <td>0</td>\n",
       "      <td>1</td>\n",
       "      <td>1</td>\n",
       "      <td>0</td>\n",
       "      <td>1</td>\n",
       "      <td>1</td>\n",
       "      <td>1</td>\n",
       "      <td>1</td>\n",
       "      <td>...</td>\n",
       "      <td>0</td>\n",
       "      <td>1</td>\n",
       "      <td>0</td>\n",
       "      <td>0</td>\n",
       "      <td>1</td>\n",
       "      <td>2</td>\n",
       "      <td>2</td>\n",
       "      <td>1</td>\n",
       "      <td>1</td>\n",
       "      <td>GBR</td>\n",
       "    </tr>\n",
       "    <tr>\n",
       "      <th>HG00101</th>\n",
       "      <td>0</td>\n",
       "      <td>0</td>\n",
       "      <td>0</td>\n",
       "      <td>2</td>\n",
       "      <td>2</td>\n",
       "      <td>0</td>\n",
       "      <td>2</td>\n",
       "      <td>2</td>\n",
       "      <td>2</td>\n",
       "      <td>2</td>\n",
       "      <td>...</td>\n",
       "      <td>0</td>\n",
       "      <td>1</td>\n",
       "      <td>0</td>\n",
       "      <td>0</td>\n",
       "      <td>1</td>\n",
       "      <td>2</td>\n",
       "      <td>2</td>\n",
       "      <td>1</td>\n",
       "      <td>1</td>\n",
       "      <td>GBR</td>\n",
       "    </tr>\n",
       "  </tbody>\n",
       "</table>\n",
       "<p>5 rows × 28623 columns</p>\n",
       "</div>"
      ],
      "text/plain": [
       "SNPs_POS chr16:88165 chr16:95254 chr16:97354 chr16:101263 chr16:103423  \\\n",
       "HG00096            0           0           0            1            1   \n",
       "HG00097            0           0           0            2            2   \n",
       "HG00099            0           0           0            2            2   \n",
       "HG00100            0           0           0            1            1   \n",
       "HG00101            0           0           0            2            2   \n",
       "\n",
       "SNPs_POS chr16:103456 chr16:105320 chr16:105444 chr16:107275 chr16:110165  \\\n",
       "HG00096             0            1            1            1            1   \n",
       "HG00097             0            2            2            2            2   \n",
       "HG00099             0            2            2            2            2   \n",
       "HG00100             0            1            1            1            1   \n",
       "HG00101             0            2            2            2            2   \n",
       "\n",
       "SNPs_POS  ... chr16:90125947 chr16:90127080 chr16:90132786 chr16:90134325  \\\n",
       "HG00096   ...              0              0              0              0   \n",
       "HG00097   ...              0              0              0              0   \n",
       "HG00099   ...              0              1              0              0   \n",
       "HG00100   ...              0              1              0              0   \n",
       "HG00101   ...              0              1              0              0   \n",
       "\n",
       "SNPs_POS chr16:90141355 chr16:90141477 chr16:90148979 chr16:90149922  \\\n",
       "HG00096               2              2              2              0   \n",
       "HG00097               2              2              2              0   \n",
       "HG00099               0              2              2              1   \n",
       "HG00100               1              2              2              1   \n",
       "HG00101               1              2              2              1   \n",
       "\n",
       "SNPs_POS chr16:90163275 group_id  \n",
       "HG00096               2      GBR  \n",
       "HG00097               2      GBR  \n",
       "HG00099               2      GBR  \n",
       "HG00100               1      GBR  \n",
       "HG00101               1      GBR  \n",
       "\n",
       "[5 rows x 28623 columns]"
      ]
     },
     "execution_count": 116,
     "metadata": {},
     "output_type": "execute_result"
    }
   ],
   "source": [
    "snps.head()"
   ]
  },
  {
   "cell_type": "code",
   "execution_count": 117,
   "metadata": {},
   "outputs": [
    {
     "data": {
      "text/plain": [
       "True"
      ]
     },
     "execution_count": 117,
     "metadata": {},
     "output_type": "execute_result"
    }
   ],
   "source": [
    "list(snps. index) == temp2"
   ]
  },
  {
   "cell_type": "code",
   "execution_count": 118,
   "metadata": {},
   "outputs": [],
   "source": [
    "def ancestry_type(row):\n",
    "    if row.group_id in [\"ACB\",\"ASW\"]:\n",
    "        return \"Admixed African\"\n",
    "    elif row.group_id in [\"GIH\",\"BEB\",\"ITU\"]:\n",
    "        return \"South Asian\"\n",
    "    elif row.group_id in [\"CDX\",\"CHB\",\"CHS\",\"JPT\",\"KHV\"]:\n",
    "        return \"East Asian\"\n",
    "    elif row.group_id in [\"CEU\",\"FIN\",\"GBR\",\"IBS\",\"TSI\"]:\n",
    "        return \"European\"\n",
    "    elif row.group_id in [\"CLM\",\"MXL\",\"PEL\",\"PJL\",\"PUR\",\"STU\"]:\n",
    "        return \"American\"\n",
    "    elif row.group_id in [\"LWK\",\"MSL\",\"YRI\",\"ESN\",\"GWD\"]:\n",
    "        return \"African\"\n",
    "    else:\n",
    "        return None\n",
    "snps[\"ancestry_group\"] = snps.apply(ancestry_type, axis = 1)"
   ]
  },
  {
   "cell_type": "code",
   "execution_count": 119,
   "metadata": {},
   "outputs": [],
   "source": [
    "def code_group(row):\n",
    "    if row.ancestry_group == \"Admixed African\":\n",
    "        return 1\n",
    "    elif row.ancestry_group == \"South Asian\":\n",
    "        return 2\n",
    "    elif row.ancestry_group == \"East Asian\":\n",
    "        return 3\n",
    "    elif row.ancestry_group == \"European\":\n",
    "        return 4\n",
    "    elif row.ancestry_group == \"American\":\n",
    "        return 5\n",
    "    elif row.ancestry_group == \"African\":\n",
    "        return 6\n",
    "    else:\n",
    "        return 0"
   ]
  },
  {
   "cell_type": "code",
   "execution_count": 120,
   "metadata": {},
   "outputs": [],
   "source": [
    "snps[\"class\"] = snps.apply(code_group, axis = 1)"
   ]
  },
  {
   "cell_type": "code",
   "execution_count": 121,
   "metadata": {},
   "outputs": [
    {
     "data": {
      "text/html": [
       "<div>\n",
       "<style scoped>\n",
       "    .dataframe tbody tr th:only-of-type {\n",
       "        vertical-align: middle;\n",
       "    }\n",
       "\n",
       "    .dataframe tbody tr th {\n",
       "        vertical-align: top;\n",
       "    }\n",
       "\n",
       "    .dataframe thead th {\n",
       "        text-align: right;\n",
       "    }\n",
       "</style>\n",
       "<table border=\"1\" class=\"dataframe\">\n",
       "  <thead>\n",
       "    <tr style=\"text-align: right;\">\n",
       "      <th>SNPs_POS</th>\n",
       "      <th>chr16:88165</th>\n",
       "      <th>chr16:95254</th>\n",
       "      <th>chr16:97354</th>\n",
       "      <th>chr16:101263</th>\n",
       "      <th>chr16:103423</th>\n",
       "      <th>chr16:103456</th>\n",
       "      <th>chr16:105320</th>\n",
       "      <th>chr16:105444</th>\n",
       "      <th>chr16:107275</th>\n",
       "      <th>chr16:110165</th>\n",
       "      <th>...</th>\n",
       "      <th>chr16:90132786</th>\n",
       "      <th>chr16:90134325</th>\n",
       "      <th>chr16:90141355</th>\n",
       "      <th>chr16:90141477</th>\n",
       "      <th>chr16:90148979</th>\n",
       "      <th>chr16:90149922</th>\n",
       "      <th>chr16:90163275</th>\n",
       "      <th>group_id</th>\n",
       "      <th>ancestry_group</th>\n",
       "      <th>class</th>\n",
       "    </tr>\n",
       "  </thead>\n",
       "  <tbody>\n",
       "    <tr>\n",
       "      <th>HG00096</th>\n",
       "      <td>0</td>\n",
       "      <td>0</td>\n",
       "      <td>0</td>\n",
       "      <td>1</td>\n",
       "      <td>1</td>\n",
       "      <td>0</td>\n",
       "      <td>1</td>\n",
       "      <td>1</td>\n",
       "      <td>1</td>\n",
       "      <td>1</td>\n",
       "      <td>...</td>\n",
       "      <td>0</td>\n",
       "      <td>0</td>\n",
       "      <td>2</td>\n",
       "      <td>2</td>\n",
       "      <td>2</td>\n",
       "      <td>0</td>\n",
       "      <td>2</td>\n",
       "      <td>GBR</td>\n",
       "      <td>European</td>\n",
       "      <td>4</td>\n",
       "    </tr>\n",
       "    <tr>\n",
       "      <th>HG00097</th>\n",
       "      <td>0</td>\n",
       "      <td>0</td>\n",
       "      <td>0</td>\n",
       "      <td>2</td>\n",
       "      <td>2</td>\n",
       "      <td>0</td>\n",
       "      <td>2</td>\n",
       "      <td>2</td>\n",
       "      <td>2</td>\n",
       "      <td>2</td>\n",
       "      <td>...</td>\n",
       "      <td>0</td>\n",
       "      <td>0</td>\n",
       "      <td>2</td>\n",
       "      <td>2</td>\n",
       "      <td>2</td>\n",
       "      <td>0</td>\n",
       "      <td>2</td>\n",
       "      <td>GBR</td>\n",
       "      <td>European</td>\n",
       "      <td>4</td>\n",
       "    </tr>\n",
       "    <tr>\n",
       "      <th>HG00099</th>\n",
       "      <td>0</td>\n",
       "      <td>0</td>\n",
       "      <td>0</td>\n",
       "      <td>2</td>\n",
       "      <td>2</td>\n",
       "      <td>0</td>\n",
       "      <td>2</td>\n",
       "      <td>2</td>\n",
       "      <td>2</td>\n",
       "      <td>2</td>\n",
       "      <td>...</td>\n",
       "      <td>0</td>\n",
       "      <td>0</td>\n",
       "      <td>0</td>\n",
       "      <td>2</td>\n",
       "      <td>2</td>\n",
       "      <td>1</td>\n",
       "      <td>2</td>\n",
       "      <td>GBR</td>\n",
       "      <td>European</td>\n",
       "      <td>4</td>\n",
       "    </tr>\n",
       "    <tr>\n",
       "      <th>HG00100</th>\n",
       "      <td>0</td>\n",
       "      <td>0</td>\n",
       "      <td>0</td>\n",
       "      <td>1</td>\n",
       "      <td>1</td>\n",
       "      <td>0</td>\n",
       "      <td>1</td>\n",
       "      <td>1</td>\n",
       "      <td>1</td>\n",
       "      <td>1</td>\n",
       "      <td>...</td>\n",
       "      <td>0</td>\n",
       "      <td>0</td>\n",
       "      <td>1</td>\n",
       "      <td>2</td>\n",
       "      <td>2</td>\n",
       "      <td>1</td>\n",
       "      <td>1</td>\n",
       "      <td>GBR</td>\n",
       "      <td>European</td>\n",
       "      <td>4</td>\n",
       "    </tr>\n",
       "    <tr>\n",
       "      <th>HG00101</th>\n",
       "      <td>0</td>\n",
       "      <td>0</td>\n",
       "      <td>0</td>\n",
       "      <td>2</td>\n",
       "      <td>2</td>\n",
       "      <td>0</td>\n",
       "      <td>2</td>\n",
       "      <td>2</td>\n",
       "      <td>2</td>\n",
       "      <td>2</td>\n",
       "      <td>...</td>\n",
       "      <td>0</td>\n",
       "      <td>0</td>\n",
       "      <td>1</td>\n",
       "      <td>2</td>\n",
       "      <td>2</td>\n",
       "      <td>1</td>\n",
       "      <td>1</td>\n",
       "      <td>GBR</td>\n",
       "      <td>European</td>\n",
       "      <td>4</td>\n",
       "    </tr>\n",
       "  </tbody>\n",
       "</table>\n",
       "<p>5 rows × 28625 columns</p>\n",
       "</div>"
      ],
      "text/plain": [
       "SNPs_POS chr16:88165 chr16:95254 chr16:97354 chr16:101263 chr16:103423  \\\n",
       "HG00096            0           0           0            1            1   \n",
       "HG00097            0           0           0            2            2   \n",
       "HG00099            0           0           0            2            2   \n",
       "HG00100            0           0           0            1            1   \n",
       "HG00101            0           0           0            2            2   \n",
       "\n",
       "SNPs_POS chr16:103456 chr16:105320 chr16:105444 chr16:107275 chr16:110165  \\\n",
       "HG00096             0            1            1            1            1   \n",
       "HG00097             0            2            2            2            2   \n",
       "HG00099             0            2            2            2            2   \n",
       "HG00100             0            1            1            1            1   \n",
       "HG00101             0            2            2            2            2   \n",
       "\n",
       "SNPs_POS  ... chr16:90132786 chr16:90134325 chr16:90141355 chr16:90141477  \\\n",
       "HG00096   ...              0              0              2              2   \n",
       "HG00097   ...              0              0              2              2   \n",
       "HG00099   ...              0              0              0              2   \n",
       "HG00100   ...              0              0              1              2   \n",
       "HG00101   ...              0              0              1              2   \n",
       "\n",
       "SNPs_POS chr16:90148979 chr16:90149922 chr16:90163275 group_id ancestry_group  \\\n",
       "HG00096               2              0              2      GBR       European   \n",
       "HG00097               2              0              2      GBR       European   \n",
       "HG00099               2              1              2      GBR       European   \n",
       "HG00100               2              1              1      GBR       European   \n",
       "HG00101               2              1              1      GBR       European   \n",
       "\n",
       "SNPs_POS class  \n",
       "HG00096      4  \n",
       "HG00097      4  \n",
       "HG00099      4  \n",
       "HG00100      4  \n",
       "HG00101      4  \n",
       "\n",
       "[5 rows x 28625 columns]"
      ]
     },
     "execution_count": 121,
     "metadata": {},
     "output_type": "execute_result"
    }
   ],
   "source": [
    "snps.head()"
   ]
  },
  {
   "cell_type": "markdown",
   "metadata": {},
   "source": [
    "## Data split"
   ]
  },
  {
   "cell_type": "markdown",
   "metadata": {},
   "source": [
    "We randomly split the data into 75% train and 25% test."
   ]
  },
  {
   "cell_type": "code",
   "execution_count": 122,
   "metadata": {},
   "outputs": [],
   "source": [
    "from sklearn.model_selection import train_test_split"
   ]
  },
  {
   "cell_type": "code",
   "execution_count": 123,
   "metadata": {},
   "outputs": [],
   "source": [
    "#Select the columns of features\n",
    "X=snps.loc[: , (snps.columns != 'group_id') & (snps.columns != 'ancestry_group') & (snps.columns != 'class')]"
   ]
  },
  {
   "cell_type": "code",
   "execution_count": 124,
   "metadata": {},
   "outputs": [
    {
     "data": {
      "text/html": [
       "<div>\n",
       "<style scoped>\n",
       "    .dataframe tbody tr th:only-of-type {\n",
       "        vertical-align: middle;\n",
       "    }\n",
       "\n",
       "    .dataframe tbody tr th {\n",
       "        vertical-align: top;\n",
       "    }\n",
       "\n",
       "    .dataframe thead th {\n",
       "        text-align: right;\n",
       "    }\n",
       "</style>\n",
       "<table border=\"1\" class=\"dataframe\">\n",
       "  <thead>\n",
       "    <tr style=\"text-align: right;\">\n",
       "      <th>SNPs_POS</th>\n",
       "      <th>chr16:88165</th>\n",
       "      <th>chr16:95254</th>\n",
       "      <th>chr16:97354</th>\n",
       "      <th>chr16:101263</th>\n",
       "      <th>chr16:103423</th>\n",
       "      <th>chr16:103456</th>\n",
       "      <th>chr16:105320</th>\n",
       "      <th>chr16:105444</th>\n",
       "      <th>chr16:107275</th>\n",
       "      <th>chr16:110165</th>\n",
       "      <th>...</th>\n",
       "      <th>chr16:90125731</th>\n",
       "      <th>chr16:90125947</th>\n",
       "      <th>chr16:90127080</th>\n",
       "      <th>chr16:90132786</th>\n",
       "      <th>chr16:90134325</th>\n",
       "      <th>chr16:90141355</th>\n",
       "      <th>chr16:90141477</th>\n",
       "      <th>chr16:90148979</th>\n",
       "      <th>chr16:90149922</th>\n",
       "      <th>chr16:90163275</th>\n",
       "    </tr>\n",
       "  </thead>\n",
       "  <tbody>\n",
       "    <tr>\n",
       "      <th>HG00096</th>\n",
       "      <td>0</td>\n",
       "      <td>0</td>\n",
       "      <td>0</td>\n",
       "      <td>1</td>\n",
       "      <td>1</td>\n",
       "      <td>0</td>\n",
       "      <td>1</td>\n",
       "      <td>1</td>\n",
       "      <td>1</td>\n",
       "      <td>1</td>\n",
       "      <td>...</td>\n",
       "      <td>0</td>\n",
       "      <td>0</td>\n",
       "      <td>0</td>\n",
       "      <td>0</td>\n",
       "      <td>0</td>\n",
       "      <td>1</td>\n",
       "      <td>1</td>\n",
       "      <td>1</td>\n",
       "      <td>0</td>\n",
       "      <td>1</td>\n",
       "    </tr>\n",
       "    <tr>\n",
       "      <th>HG00097</th>\n",
       "      <td>0</td>\n",
       "      <td>0</td>\n",
       "      <td>0</td>\n",
       "      <td>1</td>\n",
       "      <td>1</td>\n",
       "      <td>0</td>\n",
       "      <td>1</td>\n",
       "      <td>1</td>\n",
       "      <td>1</td>\n",
       "      <td>1</td>\n",
       "      <td>...</td>\n",
       "      <td>0</td>\n",
       "      <td>0</td>\n",
       "      <td>0</td>\n",
       "      <td>0</td>\n",
       "      <td>0</td>\n",
       "      <td>1</td>\n",
       "      <td>1</td>\n",
       "      <td>1</td>\n",
       "      <td>0</td>\n",
       "      <td>1</td>\n",
       "    </tr>\n",
       "    <tr>\n",
       "      <th>HG00099</th>\n",
       "      <td>0</td>\n",
       "      <td>0</td>\n",
       "      <td>0</td>\n",
       "      <td>1</td>\n",
       "      <td>1</td>\n",
       "      <td>0</td>\n",
       "      <td>1</td>\n",
       "      <td>1</td>\n",
       "      <td>1</td>\n",
       "      <td>1</td>\n",
       "      <td>...</td>\n",
       "      <td>0</td>\n",
       "      <td>0</td>\n",
       "      <td>1</td>\n",
       "      <td>0</td>\n",
       "      <td>0</td>\n",
       "      <td>0</td>\n",
       "      <td>1</td>\n",
       "      <td>1</td>\n",
       "      <td>1</td>\n",
       "      <td>1</td>\n",
       "    </tr>\n",
       "    <tr>\n",
       "      <th>HG00100</th>\n",
       "      <td>0</td>\n",
       "      <td>0</td>\n",
       "      <td>0</td>\n",
       "      <td>1</td>\n",
       "      <td>1</td>\n",
       "      <td>0</td>\n",
       "      <td>1</td>\n",
       "      <td>1</td>\n",
       "      <td>1</td>\n",
       "      <td>1</td>\n",
       "      <td>...</td>\n",
       "      <td>0</td>\n",
       "      <td>0</td>\n",
       "      <td>1</td>\n",
       "      <td>0</td>\n",
       "      <td>0</td>\n",
       "      <td>1</td>\n",
       "      <td>1</td>\n",
       "      <td>1</td>\n",
       "      <td>1</td>\n",
       "      <td>1</td>\n",
       "    </tr>\n",
       "    <tr>\n",
       "      <th>HG00101</th>\n",
       "      <td>0</td>\n",
       "      <td>0</td>\n",
       "      <td>0</td>\n",
       "      <td>1</td>\n",
       "      <td>1</td>\n",
       "      <td>0</td>\n",
       "      <td>1</td>\n",
       "      <td>1</td>\n",
       "      <td>1</td>\n",
       "      <td>1</td>\n",
       "      <td>...</td>\n",
       "      <td>0</td>\n",
       "      <td>0</td>\n",
       "      <td>1</td>\n",
       "      <td>0</td>\n",
       "      <td>0</td>\n",
       "      <td>1</td>\n",
       "      <td>1</td>\n",
       "      <td>1</td>\n",
       "      <td>1</td>\n",
       "      <td>1</td>\n",
       "    </tr>\n",
       "  </tbody>\n",
       "</table>\n",
       "<p>5 rows × 28622 columns</p>\n",
       "</div>"
      ],
      "text/plain": [
       "SNPs_POS  chr16:88165  chr16:95254  chr16:97354  chr16:101263  chr16:103423  \\\n",
       "HG00096             0            0            0             1             1   \n",
       "HG00097             0            0            0             1             1   \n",
       "HG00099             0            0            0             1             1   \n",
       "HG00100             0            0            0             1             1   \n",
       "HG00101             0            0            0             1             1   \n",
       "\n",
       "SNPs_POS  chr16:103456  chr16:105320  chr16:105444  chr16:107275  \\\n",
       "HG00096              0             1             1             1   \n",
       "HG00097              0             1             1             1   \n",
       "HG00099              0             1             1             1   \n",
       "HG00100              0             1             1             1   \n",
       "HG00101              0             1             1             1   \n",
       "\n",
       "SNPs_POS  chr16:110165  ...  chr16:90125731  chr16:90125947  chr16:90127080  \\\n",
       "HG00096              1  ...               0               0               0   \n",
       "HG00097              1  ...               0               0               0   \n",
       "HG00099              1  ...               0               0               1   \n",
       "HG00100              1  ...               0               0               1   \n",
       "HG00101              1  ...               0               0               1   \n",
       "\n",
       "SNPs_POS  chr16:90132786  chr16:90134325  chr16:90141355  chr16:90141477  \\\n",
       "HG00096                0               0               1               1   \n",
       "HG00097                0               0               1               1   \n",
       "HG00099                0               0               0               1   \n",
       "HG00100                0               0               1               1   \n",
       "HG00101                0               0               1               1   \n",
       "\n",
       "SNPs_POS  chr16:90148979  chr16:90149922  chr16:90163275  \n",
       "HG00096                1               0               1  \n",
       "HG00097                1               0               1  \n",
       "HG00099                1               1               1  \n",
       "HG00100                1               1               1  \n",
       "HG00101                1               1               1  \n",
       "\n",
       "[5 rows x 28622 columns]"
      ]
     },
     "execution_count": 124,
     "metadata": {},
     "output_type": "execute_result"
    }
   ],
   "source": [
    "X = X.applymap(lambda x: 1 if int(x) >0 else 0)\n",
    "X.head()"
   ]
  },
  {
   "cell_type": "code",
   "execution_count": 125,
   "metadata": {},
   "outputs": [
    {
     "data": {
      "text/html": [
       "<div>\n",
       "<style scoped>\n",
       "    .dataframe tbody tr th:only-of-type {\n",
       "        vertical-align: middle;\n",
       "    }\n",
       "\n",
       "    .dataframe tbody tr th {\n",
       "        vertical-align: top;\n",
       "    }\n",
       "\n",
       "    .dataframe thead th {\n",
       "        text-align: right;\n",
       "    }\n",
       "</style>\n",
       "<table border=\"1\" class=\"dataframe\">\n",
       "  <thead>\n",
       "    <tr style=\"text-align: right;\">\n",
       "      <th>SNPs_POS</th>\n",
       "      <th>class</th>\n",
       "    </tr>\n",
       "  </thead>\n",
       "  <tbody>\n",
       "    <tr>\n",
       "      <th>HG00096</th>\n",
       "      <td>4</td>\n",
       "    </tr>\n",
       "    <tr>\n",
       "      <th>HG00097</th>\n",
       "      <td>4</td>\n",
       "    </tr>\n",
       "    <tr>\n",
       "      <th>HG00099</th>\n",
       "      <td>4</td>\n",
       "    </tr>\n",
       "    <tr>\n",
       "      <th>HG00100</th>\n",
       "      <td>4</td>\n",
       "    </tr>\n",
       "    <tr>\n",
       "      <th>HG00101</th>\n",
       "      <td>4</td>\n",
       "    </tr>\n",
       "  </tbody>\n",
       "</table>\n",
       "</div>"
      ],
      "text/plain": [
       "SNPs_POS  class\n",
       "HG00096       4\n",
       "HG00097       4\n",
       "HG00099       4\n",
       "HG00100       4\n",
       "HG00101       4"
      ]
     },
     "execution_count": 125,
     "metadata": {},
     "output_type": "execute_result"
    }
   ],
   "source": [
    "#Select the class column\n",
    "Y=snps.loc[: , snps.columns == 'class']\n",
    "Y.head()"
   ]
  },
  {
   "cell_type": "code",
   "execution_count": 126,
   "metadata": {},
   "outputs": [],
   "source": [
    "x_train, x_test, y_train, y_test = train_test_split(X, Y)"
   ]
  },
  {
   "cell_type": "markdown",
   "metadata": {},
   "source": [
    "# Methods"
   ]
  },
  {
   "cell_type": "code",
   "execution_count": 127,
   "metadata": {},
   "outputs": [],
   "source": [
    "#chi2\n",
    "from sklearn.feature_selection import SelectKBest\n",
    "from sklearn.feature_selection import chi2\n",
    "#random\n",
    "import random\n",
    "#PCA\n",
    "from sklearn.decomposition import PCA\n",
    "## info_gain\n",
    "from collections import defaultdict\n",
    "from math import log"
   ]
  },
  {
   "cell_type": "markdown",
   "metadata": {},
   "source": [
    "## chi2 selection"
   ]
  },
  {
   "cell_type": "markdown",
   "metadata": {},
   "source": [
    "Chi-square test is used for categorical features in a dataset. We calculate Chi-square between each feature and the target and select the desired number of features with best Chi-square scores. It determines if the association between two categorical variables of the sample would reflect their real association in the population."
   ]
  },
  {
   "cell_type": "code",
   "execution_count": 128,
   "metadata": {},
   "outputs": [],
   "source": [
    "def chi2_selection(x_train,x_test,y_train,y_test,num):\n",
    "    test = SelectKBest(score_func=chi2, k=num).fit(x_train, y_train)\n",
    "    X_select_index = test.get_support(indices=True)\n",
    "    return X_select_index"
   ]
  },
  {
   "cell_type": "markdown",
   "metadata": {},
   "source": [
    "## Info Gain"
   ]
  },
  {
   "cell_type": "markdown",
   "metadata": {},
   "source": [
    "Information gain is the reduction in entropy or surprise by transforming a dataset and is often used in training decision trees. Information gain is calculated by comparing the entropy of the dataset before and after a transformation."
   ]
  },
  {
   "cell_type": "code",
   "execution_count": 129,
   "metadata": {},
   "outputs": [],
   "source": [
    "def calcShannonEnt(Y):\n",
    "    numEntries = len(Y)\n",
    "    labelCounts = defaultdict(int)\n",
    "    for label in Y:\n",
    "        labelCounts[label] += 1\n",
    "    shannonEnt = 0.0\n",
    "    for key in labelCounts:\n",
    "        prob = float(labelCounts[key])/numEntries\n",
    "        shannonEnt -= prob * log(prob, 2)\n",
    "    return shannonEnt\n",
    "\n",
    "def calcInfoGain(dataset,Y):\n",
    "    baseEntropy = calcShannonEnt(Y)\n",
    "    InfoGain_list = []\n",
    "    for i in range(dataset.shape[0]):\n",
    "        subset_list = [[],[],[]]\n",
    "        for j in range(dataset.shape[1]):\n",
    "            subset_list[int(dataset[i,j])].append(j)\n",
    "        newEntropy = 0.0\n",
    "        splitInfo = 0.0\n",
    "        for value in [0,1,2]:\n",
    "            if len(subset_list[value])==0:\n",
    "                continue\n",
    "            prob = len(subset_list[value])/float(dataset.shape[1])\n",
    "            newEntropy += prob * calcShannonEnt(Y[subset_list[value]])\n",
    "            splitInfo += -prob * log(prob, 2)\n",
    "        infoGain = baseEntropy - newEntropy\n",
    "        if (splitInfo == 0):\n",
    "            continue\n",
    "        infoGainRatio = infoGain / splitInfo\n",
    "        InfoGain_list.append(infoGainRatio)\n",
    "    return InfoGain_list"
   ]
  },
  {
   "cell_type": "code",
   "execution_count": 130,
   "metadata": {},
   "outputs": [],
   "source": [
    "InfoGain_list = calcInfoGain(x_train.to_numpy().transpose(),y_train.to_numpy().transpose()[0])\n",
    "rank_infoGain = np.array(InfoGain_list).argsort()"
   ]
  },
  {
   "cell_type": "markdown",
   "metadata": {},
   "source": [
    "## Random Select"
   ]
  },
  {
   "cell_type": "markdown",
   "metadata": {},
   "source": [
    "random select certain number of SNPs "
   ]
  },
  {
   "cell_type": "code",
   "execution_count": 131,
   "metadata": {},
   "outputs": [],
   "source": [
    "def random_select(k):\n",
    "    return random.sample(range(28622), k)"
   ]
  },
  {
   "cell_type": "markdown",
   "metadata": {},
   "source": [
    "# Classification Results"
   ]
  },
  {
   "cell_type": "code",
   "execution_count": 132,
   "metadata": {},
   "outputs": [],
   "source": [
    "from sklearn import svm\n",
    "from sklearn.neighbors import KNeighborsClassifier\n",
    "from sklearn.linear_model import LogisticRegression\n",
    "from sklearn.ensemble import RandomForestClassifier\n",
    "from sklearn import tree\n",
    "from sklearn.ensemble import  AdaBoostClassifier\n",
    "from sklearn.naive_bayes import MultinomialNB\n",
    "\n",
    "import time"
   ]
  },
  {
   "cell_type": "markdown",
   "metadata": {},
   "source": [
    "## SVM"
   ]
  },
  {
   "cell_type": "code",
   "execution_count": 133,
   "metadata": {},
   "outputs": [],
   "source": [
    "def simple_SVM(X,Y,test_X,test_Y,method='svm_linear'):\n",
    "    #time0=time.time()\n",
    "    if method=='svm_linear' or method==0:\n",
    "        clf = svm.SVC(kernel='linear')\n",
    "    elif method=='KNeighbors' or method==1:\n",
    "        clf = KNeighborsClassifier()\n",
    "    elif method=='LogisticRegression' or method==2:\n",
    "        clf = LogisticRegression(penalty='l2')\n",
    "    elif method=='RandomForest' or method==3:\n",
    "        clf = RandomForestClassifier(n_estimators=8)\n",
    "    elif method=='DecisionTree' or method==4:\n",
    "        clf = tree.DecisionTreeClassifier()\n",
    "    elif method=='AdaBoost' or method==5:\n",
    "        clf = AdaBoostClassifier()\n",
    "    elif method=='Bayes' or method==6:\n",
    "        clf = MultinomialNB(alpha=0.01)\n",
    "    else:\n",
    "        print('Not implied!')\n",
    "        return None\n",
    "    \n",
    "    clf.fit(X,Y)\n",
    "    #print('Train time:',int(time.time()-time0))\n",
    "    train_score = clf.score(X, Y)\n",
    "    test_score = clf.score(test_X, test_Y)\n",
    "    #print('train acc:',train_score)\n",
    "    #print('test acc:',test_score)\n",
    "    return [train_score,test_score]"
   ]
  },
  {
   "cell_type": "code",
   "execution_count": 134,
   "metadata": {},
   "outputs": [],
   "source": [
    "def classfier_code(num):\n",
    "    if num == 0:\n",
    "        return \"svm_linear\"\n",
    "    elif num==1:\n",
    "        return \"KNeighbors\"\n",
    "    elif num==2:\n",
    "        return \"LogisticRegression\"\n",
    "    elif num==3:\n",
    "        return \"RandomForest\"\n",
    "    elif num==4:\n",
    "        return \"DecisionTree\"\n",
    "    elif num==5:\n",
    "        return \"AdaBoost\"\n",
    "    elif num==6:\n",
    "        return \"Bayes\"\n",
    "    else:\n",
    "        return None"
   ]
  },
  {
   "cell_type": "markdown",
   "metadata": {},
   "source": [
    "## Comparison"
   ]
  },
  {
   "cell_type": "markdown",
   "metadata": {},
   "source": [
    "## PCA"
   ]
  },
  {
   "cell_type": "code",
   "execution_count": 135,
   "metadata": {},
   "outputs": [],
   "source": [
    "from sklearn.decomposition import PCA\n",
    "\n",
    "time1=time.time()\n",
    "\n",
    "pca = PCA(n_components=4).fit(x_train)\n",
    "train_pca = pca.transform(x_train)\n",
    "test_pca = pca.transform(x_test)\n",
    "\n",
    "pca_data = simple_SVM(train_pca,y_train,test_pca,y_test)[0]"
   ]
  },
  {
   "cell_type": "code",
   "execution_count": 162,
   "metadata": {},
   "outputs": [
    {
     "data": {
      "text/plain": [
       "0.8837333333333334"
      ]
     },
     "execution_count": 162,
     "metadata": {},
     "output_type": "execute_result"
    }
   ],
   "source": [
    "pca_data"
   ]
  },
  {
   "cell_type": "code",
   "execution_count": 136,
   "metadata": {},
   "outputs": [],
   "source": [
    "import matplotlib.pyplot as plt"
   ]
  },
  {
   "cell_type": "code",
   "execution_count": 137,
   "metadata": {},
   "outputs": [],
   "source": [
    "result = []\n",
    "for num in [50,500,1000,2000,5000]:\n",
    "    for clf_num in [0,2]:\n",
    "        temp = []\n",
    "        temp.append(num)\n",
    "        temp.append(classfier_code(clf_num))\n",
    "        #chi2\n",
    "        idx = chi2_selection(x_train,x_test,y_train,y_test,num)\n",
    "        chi2_r = simple_SVM(x_train.iloc[:,idx],y_train,x_test.iloc[:,idx],y_test,clf_num)\n",
    "        temp.append(chi2_r[1])\n",
    "        #info gain\n",
    "        info_r = simple_SVM(x_train.iloc[:,rank_infoGain[-num:]],y_train,x_test.iloc[:,rank_infoGain[-num:]],y_test,clf_num)\n",
    "        temp.append(info_r[1])\n",
    "        #random\n",
    "        rl = random_select(num)\n",
    "        random_r = simple_SVM(x_train.iloc[:,rl],y_train,x_test.iloc[:,rl],y_test,clf_num)\n",
    "        temp.append(random_r[1])\n",
    "        result.append(temp)"
   ]
  },
  {
   "cell_type": "code",
   "execution_count": 138,
   "metadata": {},
   "outputs": [],
   "source": [
    "df = pd. DataFrame(result,columns = [\"#SNPs\", \"classifier\",\"chi2_accuracy\",\"info_gain_accuracy\",\"random_accuracy\"])"
   ]
  },
  {
   "cell_type": "code",
   "execution_count": 139,
   "metadata": {},
   "outputs": [
    {
     "data": {
      "text/html": [
       "<div>\n",
       "<style scoped>\n",
       "    .dataframe tbody tr th:only-of-type {\n",
       "        vertical-align: middle;\n",
       "    }\n",
       "\n",
       "    .dataframe tbody tr th {\n",
       "        vertical-align: top;\n",
       "    }\n",
       "\n",
       "    .dataframe thead th {\n",
       "        text-align: right;\n",
       "    }\n",
       "</style>\n",
       "<table border=\"1\" class=\"dataframe\">\n",
       "  <thead>\n",
       "    <tr style=\"text-align: right;\">\n",
       "      <th></th>\n",
       "      <th>#SNPs</th>\n",
       "      <th>classifier</th>\n",
       "      <th>chi2_accuracy</th>\n",
       "      <th>info_gain_accuracy</th>\n",
       "      <th>random_accuracy</th>\n",
       "    </tr>\n",
       "  </thead>\n",
       "  <tbody>\n",
       "    <tr>\n",
       "      <th>0</th>\n",
       "      <td>50</td>\n",
       "      <td>svm_linear</td>\n",
       "      <td>0.656550</td>\n",
       "      <td>0.674121</td>\n",
       "      <td>0.691693</td>\n",
       "    </tr>\n",
       "    <tr>\n",
       "      <th>1</th>\n",
       "      <td>50</td>\n",
       "      <td>LogisticRegression</td>\n",
       "      <td>0.634185</td>\n",
       "      <td>0.661342</td>\n",
       "      <td>0.675719</td>\n",
       "    </tr>\n",
       "    <tr>\n",
       "      <th>2</th>\n",
       "      <td>500</td>\n",
       "      <td>svm_linear</td>\n",
       "      <td>0.730032</td>\n",
       "      <td>0.782748</td>\n",
       "      <td>0.768371</td>\n",
       "    </tr>\n",
       "    <tr>\n",
       "      <th>3</th>\n",
       "      <td>500</td>\n",
       "      <td>LogisticRegression</td>\n",
       "      <td>0.746006</td>\n",
       "      <td>0.785942</td>\n",
       "      <td>0.773163</td>\n",
       "    </tr>\n",
       "    <tr>\n",
       "      <th>4</th>\n",
       "      <td>1000</td>\n",
       "      <td>svm_linear</td>\n",
       "      <td>0.782748</td>\n",
       "      <td>0.825879</td>\n",
       "      <td>0.811502</td>\n",
       "    </tr>\n",
       "    <tr>\n",
       "      <th>5</th>\n",
       "      <td>1000</td>\n",
       "      <td>LogisticRegression</td>\n",
       "      <td>0.765176</td>\n",
       "      <td>0.793930</td>\n",
       "      <td>0.808307</td>\n",
       "    </tr>\n",
       "    <tr>\n",
       "      <th>6</th>\n",
       "      <td>2000</td>\n",
       "      <td>svm_linear</td>\n",
       "      <td>0.835463</td>\n",
       "      <td>0.835463</td>\n",
       "      <td>0.843450</td>\n",
       "    </tr>\n",
       "    <tr>\n",
       "      <th>7</th>\n",
       "      <td>2000</td>\n",
       "      <td>LogisticRegression</td>\n",
       "      <td>0.811502</td>\n",
       "      <td>0.808307</td>\n",
       "      <td>0.813099</td>\n",
       "    </tr>\n",
       "    <tr>\n",
       "      <th>8</th>\n",
       "      <td>5000</td>\n",
       "      <td>svm_linear</td>\n",
       "      <td>0.870607</td>\n",
       "      <td>0.851438</td>\n",
       "      <td>0.853035</td>\n",
       "    </tr>\n",
       "    <tr>\n",
       "      <th>9</th>\n",
       "      <td>5000</td>\n",
       "      <td>LogisticRegression</td>\n",
       "      <td>0.840256</td>\n",
       "      <td>0.822684</td>\n",
       "      <td>0.832268</td>\n",
       "    </tr>\n",
       "  </tbody>\n",
       "</table>\n",
       "</div>"
      ],
      "text/plain": [
       "   #SNPs          classifier  chi2_accuracy  info_gain_accuracy  \\\n",
       "0     50          svm_linear       0.656550            0.674121   \n",
       "1     50  LogisticRegression       0.634185            0.661342   \n",
       "2    500          svm_linear       0.730032            0.782748   \n",
       "3    500  LogisticRegression       0.746006            0.785942   \n",
       "4   1000          svm_linear       0.782748            0.825879   \n",
       "5   1000  LogisticRegression       0.765176            0.793930   \n",
       "6   2000          svm_linear       0.835463            0.835463   \n",
       "7   2000  LogisticRegression       0.811502            0.808307   \n",
       "8   5000          svm_linear       0.870607            0.851438   \n",
       "9   5000  LogisticRegression       0.840256            0.822684   \n",
       "\n",
       "   random_accuracy  \n",
       "0         0.691693  \n",
       "1         0.675719  \n",
       "2         0.768371  \n",
       "3         0.773163  \n",
       "4         0.811502  \n",
       "5         0.808307  \n",
       "6         0.843450  \n",
       "7         0.813099  \n",
       "8         0.853035  \n",
       "9         0.832268  "
      ]
     },
     "execution_count": 139,
     "metadata": {},
     "output_type": "execute_result"
    }
   ],
   "source": [
    "df"
   ]
  },
  {
   "cell_type": "code",
   "execution_count": 140,
   "metadata": {},
   "outputs": [],
   "source": [
    "original = []\n",
    "for clf_num in [0,2]:\n",
    "    temp = simple_SVM(x_train,y_train,x_test,y_test,clf_num)\n",
    "    t = []\n",
    "    t.append(28622)\n",
    "    t.append(classfier_code(clf_num))\n",
    "    t.append(0)\n",
    "    t.append(0)\n",
    "    t.append(0)\n",
    "    t.append(temp[1])\n",
    "    original.append(t)"
   ]
  },
  {
   "cell_type": "code",
   "execution_count": 141,
   "metadata": {},
   "outputs": [
    {
     "data": {
      "text/plain": [
       "[[28622, 'svm_linear', 0, 0, 0, 0.854632587859425],\n",
       " [28622, 'LogisticRegression', 0, 0, 0, 0.8226837060702875]]"
      ]
     },
     "execution_count": 141,
     "metadata": {},
     "output_type": "execute_result"
    }
   ],
   "source": [
    "original"
   ]
  },
  {
   "cell_type": "code",
   "execution_count": 142,
   "metadata": {},
   "outputs": [],
   "source": [
    "df_p = df"
   ]
  },
  {
   "cell_type": "code",
   "execution_count": 143,
   "metadata": {},
   "outputs": [],
   "source": [
    "df_p = df\n",
    "df_p[\"all_accuracy\"] = [0]*len(df_p) "
   ]
  },
  {
   "cell_type": "code",
   "execution_count": 144,
   "metadata": {},
   "outputs": [
    {
     "data": {
      "text/html": [
       "<div>\n",
       "<style scoped>\n",
       "    .dataframe tbody tr th:only-of-type {\n",
       "        vertical-align: middle;\n",
       "    }\n",
       "\n",
       "    .dataframe tbody tr th {\n",
       "        vertical-align: top;\n",
       "    }\n",
       "\n",
       "    .dataframe thead th {\n",
       "        text-align: right;\n",
       "    }\n",
       "</style>\n",
       "<table border=\"1\" class=\"dataframe\">\n",
       "  <thead>\n",
       "    <tr style=\"text-align: right;\">\n",
       "      <th></th>\n",
       "      <th>#SNPs</th>\n",
       "      <th>classifier</th>\n",
       "      <th>chi2_accuracy</th>\n",
       "      <th>info_gain_accuracy</th>\n",
       "      <th>random_accuracy</th>\n",
       "      <th>all_accuracy</th>\n",
       "    </tr>\n",
       "  </thead>\n",
       "  <tbody>\n",
       "    <tr>\n",
       "      <th>0</th>\n",
       "      <td>50</td>\n",
       "      <td>svm_linear</td>\n",
       "      <td>0.656550</td>\n",
       "      <td>0.674121</td>\n",
       "      <td>0.691693</td>\n",
       "      <td>0.000000</td>\n",
       "    </tr>\n",
       "    <tr>\n",
       "      <th>1</th>\n",
       "      <td>50</td>\n",
       "      <td>LogisticRegression</td>\n",
       "      <td>0.634185</td>\n",
       "      <td>0.661342</td>\n",
       "      <td>0.675719</td>\n",
       "      <td>0.000000</td>\n",
       "    </tr>\n",
       "    <tr>\n",
       "      <th>2</th>\n",
       "      <td>500</td>\n",
       "      <td>svm_linear</td>\n",
       "      <td>0.730032</td>\n",
       "      <td>0.782748</td>\n",
       "      <td>0.768371</td>\n",
       "      <td>0.000000</td>\n",
       "    </tr>\n",
       "    <tr>\n",
       "      <th>3</th>\n",
       "      <td>500</td>\n",
       "      <td>LogisticRegression</td>\n",
       "      <td>0.746006</td>\n",
       "      <td>0.785942</td>\n",
       "      <td>0.773163</td>\n",
       "      <td>0.000000</td>\n",
       "    </tr>\n",
       "    <tr>\n",
       "      <th>4</th>\n",
       "      <td>1000</td>\n",
       "      <td>svm_linear</td>\n",
       "      <td>0.782748</td>\n",
       "      <td>0.825879</td>\n",
       "      <td>0.811502</td>\n",
       "      <td>0.000000</td>\n",
       "    </tr>\n",
       "    <tr>\n",
       "      <th>5</th>\n",
       "      <td>1000</td>\n",
       "      <td>LogisticRegression</td>\n",
       "      <td>0.765176</td>\n",
       "      <td>0.793930</td>\n",
       "      <td>0.808307</td>\n",
       "      <td>0.000000</td>\n",
       "    </tr>\n",
       "    <tr>\n",
       "      <th>6</th>\n",
       "      <td>2000</td>\n",
       "      <td>svm_linear</td>\n",
       "      <td>0.835463</td>\n",
       "      <td>0.835463</td>\n",
       "      <td>0.843450</td>\n",
       "      <td>0.000000</td>\n",
       "    </tr>\n",
       "    <tr>\n",
       "      <th>7</th>\n",
       "      <td>2000</td>\n",
       "      <td>LogisticRegression</td>\n",
       "      <td>0.811502</td>\n",
       "      <td>0.808307</td>\n",
       "      <td>0.813099</td>\n",
       "      <td>0.000000</td>\n",
       "    </tr>\n",
       "    <tr>\n",
       "      <th>8</th>\n",
       "      <td>5000</td>\n",
       "      <td>svm_linear</td>\n",
       "      <td>0.870607</td>\n",
       "      <td>0.851438</td>\n",
       "      <td>0.853035</td>\n",
       "      <td>0.000000</td>\n",
       "    </tr>\n",
       "    <tr>\n",
       "      <th>9</th>\n",
       "      <td>5000</td>\n",
       "      <td>LogisticRegression</td>\n",
       "      <td>0.840256</td>\n",
       "      <td>0.822684</td>\n",
       "      <td>0.832268</td>\n",
       "      <td>0.000000</td>\n",
       "    </tr>\n",
       "    <tr>\n",
       "      <th>10</th>\n",
       "      <td>28622</td>\n",
       "      <td>svm_linear</td>\n",
       "      <td>0.000000</td>\n",
       "      <td>0.000000</td>\n",
       "      <td>0.000000</td>\n",
       "      <td>0.854633</td>\n",
       "    </tr>\n",
       "    <tr>\n",
       "      <th>11</th>\n",
       "      <td>28622</td>\n",
       "      <td>LogisticRegression</td>\n",
       "      <td>0.000000</td>\n",
       "      <td>0.000000</td>\n",
       "      <td>0.000000</td>\n",
       "      <td>0.822684</td>\n",
       "    </tr>\n",
       "  </tbody>\n",
       "</table>\n",
       "</div>"
      ],
      "text/plain": [
       "    #SNPs          classifier  chi2_accuracy  info_gain_accuracy  \\\n",
       "0      50          svm_linear       0.656550            0.674121   \n",
       "1      50  LogisticRegression       0.634185            0.661342   \n",
       "2     500          svm_linear       0.730032            0.782748   \n",
       "3     500  LogisticRegression       0.746006            0.785942   \n",
       "4    1000          svm_linear       0.782748            0.825879   \n",
       "5    1000  LogisticRegression       0.765176            0.793930   \n",
       "6    2000          svm_linear       0.835463            0.835463   \n",
       "7    2000  LogisticRegression       0.811502            0.808307   \n",
       "8    5000          svm_linear       0.870607            0.851438   \n",
       "9    5000  LogisticRegression       0.840256            0.822684   \n",
       "10  28622          svm_linear       0.000000            0.000000   \n",
       "11  28622  LogisticRegression       0.000000            0.000000   \n",
       "\n",
       "    random_accuracy  all_accuracy  \n",
       "0          0.691693      0.000000  \n",
       "1          0.675719      0.000000  \n",
       "2          0.768371      0.000000  \n",
       "3          0.773163      0.000000  \n",
       "4          0.811502      0.000000  \n",
       "5          0.808307      0.000000  \n",
       "6          0.843450      0.000000  \n",
       "7          0.813099      0.000000  \n",
       "8          0.853035      0.000000  \n",
       "9          0.832268      0.000000  \n",
       "10         0.000000      0.854633  \n",
       "11         0.000000      0.822684  "
      ]
     },
     "execution_count": 144,
     "metadata": {},
     "output_type": "execute_result"
    }
   ],
   "source": [
    "a_series = pd.Series(original[0], index = df_p.columns)\n",
    "df_p = df_p.append(a_series, ignore_index=True)\n",
    "a_series = pd.Series(original[1], index = df_p.columns)\n",
    "df_p = df_p.append(a_series, ignore_index=True)\n",
    "df_p"
   ]
  },
  {
   "cell_type": "code",
   "execution_count": 145,
   "metadata": {},
   "outputs": [
    {
     "data": {
      "text/html": [
       "<div>\n",
       "<style scoped>\n",
       "    .dataframe tbody tr th:only-of-type {\n",
       "        vertical-align: middle;\n",
       "    }\n",
       "\n",
       "    .dataframe tbody tr th {\n",
       "        vertical-align: top;\n",
       "    }\n",
       "\n",
       "    .dataframe thead th {\n",
       "        text-align: right;\n",
       "    }\n",
       "</style>\n",
       "<table border=\"1\" class=\"dataframe\">\n",
       "  <thead>\n",
       "    <tr style=\"text-align: right;\">\n",
       "      <th></th>\n",
       "      <th>classifier</th>\n",
       "      <th>chi2_accuracy</th>\n",
       "      <th>info_gain_accuracy</th>\n",
       "      <th>random_accuracy</th>\n",
       "      <th>all_accuracy</th>\n",
       "    </tr>\n",
       "    <tr>\n",
       "      <th>#SNPs</th>\n",
       "      <th></th>\n",
       "      <th></th>\n",
       "      <th></th>\n",
       "      <th></th>\n",
       "      <th></th>\n",
       "    </tr>\n",
       "  </thead>\n",
       "  <tbody>\n",
       "    <tr>\n",
       "      <th>50</th>\n",
       "      <td>svm_linear</td>\n",
       "      <td>0.656550</td>\n",
       "      <td>0.674121</td>\n",
       "      <td>0.691693</td>\n",
       "      <td>0</td>\n",
       "    </tr>\n",
       "    <tr>\n",
       "      <th>500</th>\n",
       "      <td>svm_linear</td>\n",
       "      <td>0.730032</td>\n",
       "      <td>0.782748</td>\n",
       "      <td>0.768371</td>\n",
       "      <td>0</td>\n",
       "    </tr>\n",
       "    <tr>\n",
       "      <th>1000</th>\n",
       "      <td>svm_linear</td>\n",
       "      <td>0.782748</td>\n",
       "      <td>0.825879</td>\n",
       "      <td>0.811502</td>\n",
       "      <td>0</td>\n",
       "    </tr>\n",
       "    <tr>\n",
       "      <th>2000</th>\n",
       "      <td>svm_linear</td>\n",
       "      <td>0.835463</td>\n",
       "      <td>0.835463</td>\n",
       "      <td>0.843450</td>\n",
       "      <td>0</td>\n",
       "    </tr>\n",
       "    <tr>\n",
       "      <th>5000</th>\n",
       "      <td>svm_linear</td>\n",
       "      <td>0.870607</td>\n",
       "      <td>0.851438</td>\n",
       "      <td>0.853035</td>\n",
       "      <td>0</td>\n",
       "    </tr>\n",
       "  </tbody>\n",
       "</table>\n",
       "</div>"
      ],
      "text/plain": [
       "       classifier  chi2_accuracy  info_gain_accuracy  random_accuracy  \\\n",
       "#SNPs                                                                   \n",
       "50     svm_linear       0.656550            0.674121         0.691693   \n",
       "500    svm_linear       0.730032            0.782748         0.768371   \n",
       "1000   svm_linear       0.782748            0.825879         0.811502   \n",
       "2000   svm_linear       0.835463            0.835463         0.843450   \n",
       "5000   svm_linear       0.870607            0.851438         0.853035   \n",
       "\n",
       "       all_accuracy  \n",
       "#SNPs                \n",
       "50                0  \n",
       "500               0  \n",
       "1000              0  \n",
       "2000              0  \n",
       "5000              0  "
      ]
     },
     "execution_count": 145,
     "metadata": {},
     "output_type": "execute_result"
    }
   ],
   "source": [
    "df[df[\"classifier\"]==\"svm_linear\"].set_index(\"#SNPs\")"
   ]
  },
  {
   "cell_type": "code",
   "execution_count": 146,
   "metadata": {},
   "outputs": [
    {
     "data": {
      "image/png": "[encoded data removed]",
      "text/plain": [
       "<Figure size 936x720 with 1 Axes>"
      ]
     },
     "metadata": {
      "needs_background": "light"
     },
     "output_type": "display_data"
    }
   ],
   "source": [
    "df2 = df_p[df_p[\"classifier\"]==\"svm_linear\"].set_index(\"#SNPs\")\n",
    "df2.plot.bar()\n",
    "plt.title(\"Accuracy of Classfier SVM_Linear\")\n",
    "#plt.suptitle('figure 1', y=-0.01)\n",
    "plt.axhline(y=pca_data, color='black', linestyle='-')\n",
    "plt.xlabel(\"#SNPs\\n\\nfigure 1\")\n",
    "plt.rcParams[\"figure.figsize\"] = (13,10)\n",
    "plt.savefig('SVM_acc.png')\n",
    "plt.show()"
   ]
  },
  {
   "cell_type": "code",
   "execution_count": 147,
   "metadata": {},
   "outputs": [
    {
     "data": {
      "image/png": "[encoded data removed]",
      "text/plain": [
       "<Figure size 936x720 with 1 Axes>"
      ]
     },
     "metadata": {
      "needs_background": "light"
     },
     "output_type": "display_data"
    }
   ],
   "source": [
    "df2 = df_p[df_p[\"classifier\"]==\"LogisticRegression\"].set_index(\"#SNPs\")\n",
    "df2.plot.bar()\n",
    "plt.title(\"Accuracy of Classfier LogisticRegression\")\n",
    "#plt.rcParams[\"figure.figsize\"] = (5,5)\n",
    "plt.axhline(y=pca_data, color='black', linestyle='-')\n",
    "plt.xlabel(\"#SNPs\\n\\nfigure 2\")\n",
    "plt.savefig('LR_acc.png')\n",
    "plt.show()"
   ]
  },
  {
   "cell_type": "markdown",
   "metadata": {},
   "source": [
    "# Discussion"
   ]
  },
  {
   "cell_type": "markdown",
   "metadata": {},
   "source": [
    "## overlap"
   ]
  },
  {
   "cell_type": "code",
   "execution_count": 148,
   "metadata": {},
   "outputs": [],
   "source": [
    "chi2_idx = chi2_selection(x_train,x_test,y_train,y_test,1000)\n",
    "info_idx = rank_infoGain[-1000:]"
   ]
  },
  {
   "cell_type": "code",
   "execution_count": 149,
   "metadata": {},
   "outputs": [],
   "source": [
    "intersection_set = set.intersection(set(chi2_idx), set(info_idx))\n",
    "overlap_idx = list(intersection_set)"
   ]
  },
  {
   "cell_type": "code",
   "execution_count": 150,
   "metadata": {},
   "outputs": [
    {
     "data": {
      "text/plain": [
       "66"
      ]
     },
     "execution_count": 150,
     "metadata": {},
     "output_type": "execute_result"
    }
   ],
   "source": [
    "len(overlap_idx)"
   ]
  },
  {
   "cell_type": "code",
   "execution_count": 151,
   "metadata": {},
   "outputs": [],
   "source": [
    "overlap = []\n",
    "for clf_num in range(7):\n",
    "    temp = []\n",
    "    temp.append(classfier_code(clf_num))\n",
    "    idx = chi2_selection(x_train,x_test,y_train,y_test,num)\n",
    "    acc = simple_SVM(x_train.iloc[:,overlap_idx],y_train,x_test.iloc[:,overlap_idx],y_test,clf_num)\n",
    "    temp.append(acc[1])\n",
    "    overlap.append(temp)"
   ]
  },
  {
   "cell_type": "code",
   "execution_count": 152,
   "metadata": {},
   "outputs": [],
   "source": [
    "df_overlap = pd. DataFrame(overlap,columns = [\"classfier\",\"accuracy\"])"
   ]
  },
  {
   "cell_type": "code",
   "execution_count": 153,
   "metadata": {},
   "outputs": [
    {
     "data": {
      "text/html": [
       "<div>\n",
       "<style scoped>\n",
       "    .dataframe tbody tr th:only-of-type {\n",
       "        vertical-align: middle;\n",
       "    }\n",
       "\n",
       "    .dataframe tbody tr th {\n",
       "        vertical-align: top;\n",
       "    }\n",
       "\n",
       "    .dataframe thead th {\n",
       "        text-align: right;\n",
       "    }\n",
       "</style>\n",
       "<table border=\"1\" class=\"dataframe\">\n",
       "  <thead>\n",
       "    <tr style=\"text-align: right;\">\n",
       "      <th></th>\n",
       "      <th>classfier</th>\n",
       "      <th>accuracy</th>\n",
       "    </tr>\n",
       "  </thead>\n",
       "  <tbody>\n",
       "    <tr>\n",
       "      <th>0</th>\n",
       "      <td>svm_linear</td>\n",
       "      <td>0.699681</td>\n",
       "    </tr>\n",
       "    <tr>\n",
       "      <th>1</th>\n",
       "      <td>KNeighbors</td>\n",
       "      <td>0.656550</td>\n",
       "    </tr>\n",
       "    <tr>\n",
       "      <th>2</th>\n",
       "      <td>LogisticRegression</td>\n",
       "      <td>0.722045</td>\n",
       "    </tr>\n",
       "    <tr>\n",
       "      <th>3</th>\n",
       "      <td>RandomForest</td>\n",
       "      <td>0.640575</td>\n",
       "    </tr>\n",
       "    <tr>\n",
       "      <th>4</th>\n",
       "      <td>DecisionTree</td>\n",
       "      <td>0.602236</td>\n",
       "    </tr>\n",
       "    <tr>\n",
       "      <th>5</th>\n",
       "      <td>AdaBoost</td>\n",
       "      <td>0.452077</td>\n",
       "    </tr>\n",
       "    <tr>\n",
       "      <th>6</th>\n",
       "      <td>Bayes</td>\n",
       "      <td>0.701278</td>\n",
       "    </tr>\n",
       "  </tbody>\n",
       "</table>\n",
       "</div>"
      ],
      "text/plain": [
       "            classfier  accuracy\n",
       "0          svm_linear  0.699681\n",
       "1          KNeighbors  0.656550\n",
       "2  LogisticRegression  0.722045\n",
       "3        RandomForest  0.640575\n",
       "4        DecisionTree  0.602236\n",
       "5            AdaBoost  0.452077\n",
       "6               Bayes  0.701278"
      ]
     },
     "execution_count": 153,
     "metadata": {},
     "output_type": "execute_result"
    }
   ],
   "source": [
    "df_overlap"
   ]
  },
  {
   "cell_type": "markdown",
   "metadata": {},
   "source": [
    "## classification_report"
   ]
  },
  {
   "cell_type": "code",
   "execution_count": 154,
   "metadata": {},
   "outputs": [],
   "source": [
    "from sklearn.metrics import confusion_matrix\n",
    "from sklearn.metrics import classification_report\n",
    "import numpy as np"
   ]
  },
  {
   "cell_type": "code",
   "execution_count": 155,
   "metadata": {},
   "outputs": [],
   "source": [
    "def predict_value(X,Y,test_X,test_Y):\n",
    "    clf = LogisticRegression(penalty='l2') \n",
    "    clf.fit(X,Y)\n",
    "    return clf.predict(test_X)"
   ]
  },
  {
   "cell_type": "code",
   "execution_count": 156,
   "metadata": {},
   "outputs": [],
   "source": [
    "target_names = [\"Admixed-African\",\"South-Asian\",\"East-Asian\",\"European\",\"American\",\"African\"]"
   ]
  },
  {
   "cell_type": "code",
   "execution_count": 157,
   "metadata": {},
   "outputs": [],
   "source": [
    "y_pred = predict_value(x_train,y_train,x_test,y_test)\n",
    "report = classification_report(y_test, y_pred, target_names=target_names)"
   ]
  },
  {
   "cell_type": "markdown",
   "metadata": {},
   "source": [
    "## Plot"
   ]
  },
  {
   "cell_type": "code",
   "execution_count": 158,
   "metadata": {},
   "outputs": [],
   "source": [
    "import numpy as np\n",
    "import matplotlib.pyplot as plt\n",
    "from matplotlib.colors import ListedColormap"
   ]
  },
  {
   "cell_type": "code",
   "execution_count": 159,
   "metadata": {},
   "outputs": [],
   "source": [
    "def plot_classification_report(cr, ax, fig, title_f='Classification report ', with_avg_total=False, cmap=plt.cm.Blues):\n",
    "    lines = cr.split('\\n')\n",
    "    classes = []\n",
    "    plotMat = []\n",
    "    for line in lines[2 : (len(lines) - 3)]:\n",
    "        #print(line)\n",
    "        t = line.split()\n",
    "        if len(t)>3:\n",
    "            classes.append(t[0])\n",
    "            v = [float(x) for x in t[1: len(t) - 1]]\n",
    "            plotMat.append(v)\n",
    "    if with_avg_total:\n",
    "        aveTotal = lines[len(lines) - 3].split()\n",
    "        classes.append('avg/total')\n",
    "        vAveTotal = [float(x) for x in aveTotal[2:len(aveTotal) - 1]]\n",
    "        plotMat.append(vAveTotal)\n",
    "\n",
    "    im = ax.imshow(plotMat, interpolation='nearest', cmap=cmap)\n",
    "    ax.set_title(title_f)\n",
    "    fig.colorbar(im, ax=ax)\n",
    "    \n",
    "    x_tick_marks = np.arange(3)\n",
    "    y_tick_marks = np.arange(len(classes))\n",
    "    ax.set_xticks(x_tick_marks)\n",
    "    ax.set_xticklabels(['precision', 'recall', 'f1-score'], rotation=45)\n",
    "    ax.set_yticks(y_tick_marks)\n",
    "    ax.set_yticklabels(classes)\n",
    "    ax.set_ylabel('Classes')\n",
    "#     ax.set_xlabel('Measures')"
   ]
  },
  {
   "cell_type": "code",
   "execution_count": 166,
   "metadata": {
    "scrolled": false
   },
   "outputs": [
    {
     "name": "stdout",
     "output_type": "stream",
     "text": [
      "                 precision    recall  f1-score   support\n",
      "\n",
      "Admixed-African       0.82      0.19      0.31        48\n",
      "    South-Asian       0.59      0.80      0.68        60\n",
      "     East-Asian       0.99      1.00      1.00       116\n",
      "       European       0.90      0.99      0.95       114\n",
      "       American       0.88      0.71      0.78       160\n",
      "        African       0.77      0.99      0.87       128\n",
      "\n",
      "       accuracy                           0.84       626\n",
      "      macro avg       0.83      0.78      0.76       626\n",
      "   weighted avg       0.85      0.84      0.82       626\n",
      "\n"
     ]
    },
    {
     "data": {
      "image/png": "[encoded data removed]",
      "text/plain": [
       "<Figure size 1080x432 with 6 Axes>"
      ]
     },
     "metadata": {
      "needs_background": "light"
     },
     "output_type": "display_data"
    }
   ],
   "source": [
    "nums = [5000] # TODO select these number, maybe use 10 50 100?\n",
    "\n",
    "fig, axs = plt.subplots(len(nums), 3, squeeze=False, figsize=(15, 6 * len(nums)))\n",
    "# plt.tight_layout()\n",
    "for idx, num in enumerate(nums):\n",
    "    #chi2\n",
    "    chi2_idx = chi2_selection(x_train,x_test,y_train,y_test,num)\n",
    "    y_pred_chi2 = predict_value(x_train.iloc[:,chi2_idx],y_train,x_test.iloc[:,chi2_idx],y_test)\n",
    "    report = classification_report(y_test, y_pred_chi2, target_names=target_names)\n",
    "    plot_classification_report(report, axs[idx][0], fig, title_f=f\"chi2 {num}\", with_avg_total=True)\n",
    "    print(report)\n",
    "    #info_gain\n",
    "    info_idx = rank_infoGain[-num:]\n",
    "    y_pred = predict_value(x_train.iloc[:,info_idx],y_train,x_test.iloc[:,info_idx],y_test)\n",
    "    report_info = classification_report(y_test, y_pred, target_names=target_names)\n",
    "    plot_classification_report(report_info, axs[idx][1], fig, title_f=f\"info_gain {num}\", with_avg_total=True)\n",
    "    #random\n",
    "    rl = random_select(num)\n",
    "    y_pred_r = predict_value(x_train.iloc[:, rl],y_train,x_test.iloc[:, rl],y_test)\n",
    "    report_r = classification_report(y_test, y_pred_r, target_names=target_names)\n",
    "    plot_classification_report(report_r, axs[idx][2], fig, title_f=f\"random {num}\", with_avg_total=True)\n",
    "plt.show()\n",
    "fig.savefig('heatmap.png')"
   ]
  },
  {
   "cell_type": "code",
   "execution_count": 164,
   "metadata": {},
   "outputs": [
    {
     "name": "stdout",
     "output_type": "stream",
     "text": [
      "                 precision    recall  f1-score   support\n",
      "\n",
      "Admixed-African       0.80      0.17      0.28        48\n",
      "    South-Asian       0.54      0.82      0.65        60\n",
      "     East-Asian       0.99      1.00      1.00       116\n",
      "       European       0.90      0.98      0.94       114\n",
      "       American       0.87      0.64      0.74       160\n",
      "        African       0.77      0.99      0.87       128\n",
      "\n",
      "       accuracy                           0.82       626\n",
      "      macro avg       0.81      0.77      0.74       626\n",
      "   weighted avg       0.84      0.82      0.81       626\n",
      "\n"
     ]
    }
   ],
   "source": [
    "print(report_info)"
   ]
  },
  {
   "cell_type": "markdown",
   "metadata": {},
   "source": [
    "# Summary"
   ]
  },
  {
   "cell_type": "code",
   "execution_count": null,
   "metadata": {},
   "outputs": [],
   "source": []
  }
 ],
 "metadata": {
  "kernelspec": {
   "display_name": "Python 3",
   "language": "python",
   "name": "python3"
  },
  "language_info": {
   "codemirror_mode": {
    "name": "ipython",
    "version": 3
   },
   "file_extension": ".py",
   "mimetype": "text/x-python",
   "name": "python",
   "nbconvert_exporter": "python",
   "pygments_lexer": "ipython3",
   "version": "3.7.3"
  }
 },
 "nbformat": 4,
 "nbformat_minor": 5
}
