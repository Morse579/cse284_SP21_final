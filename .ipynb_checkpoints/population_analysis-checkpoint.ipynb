{
 "cells": [
  {
   "cell_type": "code",
   "execution_count": 1,
   "id": "equipped-stranger",
   "metadata": {},
   "outputs": [],
   "source": [
    "import numpy as np\n",
    "import os\n",
    "import pandas as pd\n",
    "from sklearn import svm\n",
    "import time\n",
    "import warnings\n",
    "warnings.filterwarnings(\"ignore\")"
   ]
  },
  {
   "cell_type": "markdown",
   "id": "outdoor-techno",
   "metadata": {},
   "source": [
    "# Data processing"
   ]
  },
  {
   "cell_type": "markdown",
   "id": "chubby-cheat",
   "metadata": {},
   "source": [
    "## Data Description\n"
   ]
  },
  {
   "cell_type": "markdown",
   "id": "latter-pricing",
   "metadata": {},
   "source": [
    "Due to the limited computational resource, we focus on chromosome 16 with only one alternative allele.<br>\n",
    "We transform data into datafram. Each column is the position of SNPs and each row is the sample ID. We category total 26 groups into 6 ancestry group and replace each ancestry group with number 1-6.<br>\n",
    "We only care about where mutation appear for each sample. So, we replace 0 (homozygous reference) to 0 (no variant), and 1 or 2(heterozygous and homozygous non-reference) to 1 (variant) for each position through all samples."
   ]
  },
  {
   "cell_type": "code",
   "execution_count": 2,
   "id": "conventional-separate",
   "metadata": {},
   "outputs": [],
   "source": [
    "%%bash\n",
    "\n",
    "file=/datasets/cs284-sp21-A00-public/ps2/ps2_pca.genotypes.vcf.gz\n",
    "\n",
    "zcat $file | head -253 | tail -1 > data/snps_sample.tab\n",
    "\n",
    "bcftools query -e'AF<0.01' -e'AF>0.99' -f \"%CHROM %POS [%GT\\t]\\n\" $file | \\\n",
    "  sed 's/0|0/0/g' | sed 's/0|1/1/g' | sed 's/1|0/1/g' | sed 's/1|1/2/g' | \\\n",
    "  grep -v \"|\" \\\n",
    "  > data/snps.tab"
   ]
  },
  {
   "cell_type": "code",
   "execution_count": 3,
   "id": "chronic-location",
   "metadata": {},
   "outputs": [],
   "source": [
    "temp = []\n",
    "with open(\"data/snps.tab\", \"r\") as f:\n",
    "    for line in f:\n",
    "        #read line \n",
    "        sample = line.strip().split()\n",
    "        temp.append(sample)\n",
    "samples = []\n",
    "with open(\"data/snps_sample.tab\", \"r\") as f:\n",
    "    for line in f:\n",
    "        samples = line.strip().split()"
   ]
  },
  {
   "cell_type": "code",
   "execution_count": 4,
   "id": "straight-patch",
   "metadata": {},
   "outputs": [],
   "source": [
    "cols = [\"CHROM\",\"POS\"]\n",
    "cols = cols+samples[9:]"
   ]
  },
  {
   "cell_type": "code",
   "execution_count": 5,
   "id": "naked-master",
   "metadata": {},
   "outputs": [],
   "source": [
    "snps = pd.DataFrame(temp, columns=cols)"
   ]
  },
  {
   "cell_type": "code",
   "execution_count": 6,
   "id": "necessary-father",
   "metadata": {},
   "outputs": [],
   "source": [
    "snps[\"SNPs_POS\"] = \"chr\"+snps[\"CHROM\"] +\":\"+snps[\"POS\"]"
   ]
  },
  {
   "cell_type": "code",
   "execution_count": 7,
   "id": "compact-output",
   "metadata": {},
   "outputs": [],
   "source": [
    "snps = snps.iloc[:,2:]\n",
    "snps = snps.set_index('SNPs_POS')"
   ]
  },
  {
   "cell_type": "code",
   "execution_count": 8,
   "id": "empirical-coating",
   "metadata": {},
   "outputs": [],
   "source": [
    "snps = snps.transpose()"
   ]
  },
  {
   "cell_type": "code",
   "execution_count": 9,
   "id": "consecutive-mystery",
   "metadata": {},
   "outputs": [],
   "source": [
    "temp = []\n",
    "temp2 = []\n",
    "with open(\"/datasets/cs284-sp21-A00-public/ps2/ps2_reference_labels.csv\", \"r\") as f:\n",
    "    for line in f:\n",
    "        s, pop = line.strip().split(\",\")\n",
    "        temp.append(pop)\n",
    "        temp2.append(s)"
   ]
  },
  {
   "cell_type": "code",
   "execution_count": 10,
   "id": "subjective-azerbaijan",
   "metadata": {},
   "outputs": [],
   "source": [
    "snps = snps.drop([\"NA10847\",\"NA18923\",\"NA19700\"])"
   ]
  },
  {
   "cell_type": "code",
   "execution_count": 11,
   "id": "meaning-roman",
   "metadata": {},
   "outputs": [],
   "source": [
    "snps[\"group_id\"] = temp"
   ]
  },
  {
   "cell_type": "code",
   "execution_count": 12,
   "id": "stainless-trail",
   "metadata": {},
   "outputs": [
    {
     "data": {
      "text/html": [
       "<div>\n",
       "<style scoped>\n",
       "    .dataframe tbody tr th:only-of-type {\n",
       "        vertical-align: middle;\n",
       "    }\n",
       "\n",
       "    .dataframe tbody tr th {\n",
       "        vertical-align: top;\n",
       "    }\n",
       "\n",
       "    .dataframe thead th {\n",
       "        text-align: right;\n",
       "    }\n",
       "</style>\n",
       "<table border=\"1\" class=\"dataframe\">\n",
       "  <thead>\n",
       "    <tr style=\"text-align: right;\">\n",
       "      <th>SNPs_POS</th>\n",
       "      <th>chr16:88165</th>\n",
       "      <th>chr16:95254</th>\n",
       "      <th>chr16:97354</th>\n",
       "      <th>chr16:101263</th>\n",
       "      <th>chr16:103423</th>\n",
       "      <th>chr16:103456</th>\n",
       "      <th>chr16:105320</th>\n",
       "      <th>chr16:105444</th>\n",
       "      <th>chr16:107275</th>\n",
       "      <th>chr16:110165</th>\n",
       "      <th>...</th>\n",
       "      <th>chr16:90125947</th>\n",
       "      <th>chr16:90127080</th>\n",
       "      <th>chr16:90132786</th>\n",
       "      <th>chr16:90134325</th>\n",
       "      <th>chr16:90141355</th>\n",
       "      <th>chr16:90141477</th>\n",
       "      <th>chr16:90148979</th>\n",
       "      <th>chr16:90149922</th>\n",
       "      <th>chr16:90163275</th>\n",
       "      <th>group_id</th>\n",
       "    </tr>\n",
       "  </thead>\n",
       "  <tbody>\n",
       "    <tr>\n",
       "      <th>HG00096</th>\n",
       "      <td>0</td>\n",
       "      <td>0</td>\n",
       "      <td>0</td>\n",
       "      <td>1</td>\n",
       "      <td>1</td>\n",
       "      <td>0</td>\n",
       "      <td>1</td>\n",
       "      <td>1</td>\n",
       "      <td>1</td>\n",
       "      <td>1</td>\n",
       "      <td>...</td>\n",
       "      <td>0</td>\n",
       "      <td>0</td>\n",
       "      <td>0</td>\n",
       "      <td>0</td>\n",
       "      <td>2</td>\n",
       "      <td>2</td>\n",
       "      <td>2</td>\n",
       "      <td>0</td>\n",
       "      <td>2</td>\n",
       "      <td>GBR</td>\n",
       "    </tr>\n",
       "    <tr>\n",
       "      <th>HG00097</th>\n",
       "      <td>0</td>\n",
       "      <td>0</td>\n",
       "      <td>0</td>\n",
       "      <td>2</td>\n",
       "      <td>2</td>\n",
       "      <td>0</td>\n",
       "      <td>2</td>\n",
       "      <td>2</td>\n",
       "      <td>2</td>\n",
       "      <td>2</td>\n",
       "      <td>...</td>\n",
       "      <td>0</td>\n",
       "      <td>0</td>\n",
       "      <td>0</td>\n",
       "      <td>0</td>\n",
       "      <td>2</td>\n",
       "      <td>2</td>\n",
       "      <td>2</td>\n",
       "      <td>0</td>\n",
       "      <td>2</td>\n",
       "      <td>GBR</td>\n",
       "    </tr>\n",
       "    <tr>\n",
       "      <th>HG00099</th>\n",
       "      <td>0</td>\n",
       "      <td>0</td>\n",
       "      <td>0</td>\n",
       "      <td>2</td>\n",
       "      <td>2</td>\n",
       "      <td>0</td>\n",
       "      <td>2</td>\n",
       "      <td>2</td>\n",
       "      <td>2</td>\n",
       "      <td>2</td>\n",
       "      <td>...</td>\n",
       "      <td>0</td>\n",
       "      <td>1</td>\n",
       "      <td>0</td>\n",
       "      <td>0</td>\n",
       "      <td>0</td>\n",
       "      <td>2</td>\n",
       "      <td>2</td>\n",
       "      <td>1</td>\n",
       "      <td>2</td>\n",
       "      <td>GBR</td>\n",
       "    </tr>\n",
       "    <tr>\n",
       "      <th>HG00100</th>\n",
       "      <td>0</td>\n",
       "      <td>0</td>\n",
       "      <td>0</td>\n",
       "      <td>1</td>\n",
       "      <td>1</td>\n",
       "      <td>0</td>\n",
       "      <td>1</td>\n",
       "      <td>1</td>\n",
       "      <td>1</td>\n",
       "      <td>1</td>\n",
       "      <td>...</td>\n",
       "      <td>0</td>\n",
       "      <td>1</td>\n",
       "      <td>0</td>\n",
       "      <td>0</td>\n",
       "      <td>1</td>\n",
       "      <td>2</td>\n",
       "      <td>2</td>\n",
       "      <td>1</td>\n",
       "      <td>1</td>\n",
       "      <td>GBR</td>\n",
       "    </tr>\n",
       "    <tr>\n",
       "      <th>HG00101</th>\n",
       "      <td>0</td>\n",
       "      <td>0</td>\n",
       "      <td>0</td>\n",
       "      <td>2</td>\n",
       "      <td>2</td>\n",
       "      <td>0</td>\n",
       "      <td>2</td>\n",
       "      <td>2</td>\n",
       "      <td>2</td>\n",
       "      <td>2</td>\n",
       "      <td>...</td>\n",
       "      <td>0</td>\n",
       "      <td>1</td>\n",
       "      <td>0</td>\n",
       "      <td>0</td>\n",
       "      <td>1</td>\n",
       "      <td>2</td>\n",
       "      <td>2</td>\n",
       "      <td>1</td>\n",
       "      <td>1</td>\n",
       "      <td>GBR</td>\n",
       "    </tr>\n",
       "  </tbody>\n",
       "</table>\n",
       "<p>5 rows × 28623 columns</p>\n",
       "</div>"
      ],
      "text/plain": [
       "SNPs_POS chr16:88165 chr16:95254 chr16:97354 chr16:101263 chr16:103423  \\\n",
       "HG00096            0           0           0            1            1   \n",
       "HG00097            0           0           0            2            2   \n",
       "HG00099            0           0           0            2            2   \n",
       "HG00100            0           0           0            1            1   \n",
       "HG00101            0           0           0            2            2   \n",
       "\n",
       "SNPs_POS chr16:103456 chr16:105320 chr16:105444 chr16:107275 chr16:110165  \\\n",
       "HG00096             0            1            1            1            1   \n",
       "HG00097             0            2            2            2            2   \n",
       "HG00099             0            2            2            2            2   \n",
       "HG00100             0            1            1            1            1   \n",
       "HG00101             0            2            2            2            2   \n",
       "\n",
       "SNPs_POS  ... chr16:90125947 chr16:90127080 chr16:90132786 chr16:90134325  \\\n",
       "HG00096   ...              0              0              0              0   \n",
       "HG00097   ...              0              0              0              0   \n",
       "HG00099   ...              0              1              0              0   \n",
       "HG00100   ...              0              1              0              0   \n",
       "HG00101   ...              0              1              0              0   \n",
       "\n",
       "SNPs_POS chr16:90141355 chr16:90141477 chr16:90148979 chr16:90149922  \\\n",
       "HG00096               2              2              2              0   \n",
       "HG00097               2              2              2              0   \n",
       "HG00099               0              2              2              1   \n",
       "HG00100               1              2              2              1   \n",
       "HG00101               1              2              2              1   \n",
       "\n",
       "SNPs_POS chr16:90163275 group_id  \n",
       "HG00096               2      GBR  \n",
       "HG00097               2      GBR  \n",
       "HG00099               2      GBR  \n",
       "HG00100               1      GBR  \n",
       "HG00101               1      GBR  \n",
       "\n",
       "[5 rows x 28623 columns]"
      ]
     },
     "execution_count": 12,
     "metadata": {},
     "output_type": "execute_result"
    }
   ],
   "source": [
    "snps.head()"
   ]
  },
  {
   "cell_type": "code",
   "execution_count": 13,
   "id": "synthetic-assist",
   "metadata": {},
   "outputs": [
    {
     "data": {
      "text/plain": [
       "True"
      ]
     },
     "execution_count": 13,
     "metadata": {},
     "output_type": "execute_result"
    }
   ],
   "source": [
    "list(snps. index) == temp2"
   ]
  },
  {
   "cell_type": "code",
   "execution_count": 14,
   "id": "supported-pendant",
   "metadata": {},
   "outputs": [],
   "source": [
    "def ancestry_type(row):\n",
    "    if row.group_id in [\"ACB\",\"ASW\"]:\n",
    "        return \"Admixed African\"\n",
    "    elif row.group_id in [\"GIH\",\"BEB\",\"ITU\"]:\n",
    "        return \"South Asian\"\n",
    "    elif row.group_id in [\"CDX\",\"CHB\",\"CHS\",\"JPT\",\"KHV\"]:\n",
    "        return \"East Asian\"\n",
    "    elif row.group_id in [\"CEU\",\"FIN\",\"GBR\",\"IBS\",\"TSI\"]:\n",
    "        return \"European\"\n",
    "    elif row.group_id in [\"CLM\",\"MXL\",\"PEL\",\"PJL\",\"PUR\",\"STU\"]:\n",
    "        return \"American\"\n",
    "    elif row.group_id in [\"LWK\",\"MSL\",\"YRI\",\"ESN\",\"GWD\"]:\n",
    "        return \"African\"\n",
    "    else:\n",
    "        return None\n",
    "snps[\"ancestry_group\"] = snps.apply(ancestry_type, axis = 1)"
   ]
  },
  {
   "cell_type": "code",
   "execution_count": 15,
   "id": "legal-jackson",
   "metadata": {},
   "outputs": [],
   "source": [
    "def code_group(row):\n",
    "    if row.ancestry_group == \"Admixed African\":\n",
    "        return 1\n",
    "    elif row.ancestry_group == \"South Asian\":\n",
    "        return 2\n",
    "    elif row.ancestry_group == \"East Asian\":\n",
    "        return 3\n",
    "    elif row.ancestry_group == \"European\":\n",
    "        return 4\n",
    "    elif row.ancestry_group == \"American\":\n",
    "        return 5\n",
    "    elif row.ancestry_group == \"African\":\n",
    "        return 6\n",
    "    else:\n",
    "        return 0"
   ]
  },
  {
   "cell_type": "code",
   "execution_count": 16,
   "id": "graphic-truth",
   "metadata": {},
   "outputs": [],
   "source": [
    "snps[\"class\"] = snps.apply(code_group, axis = 1)"
   ]
  },
  {
   "cell_type": "code",
   "execution_count": 17,
   "id": "purple-handling",
   "metadata": {},
   "outputs": [
    {
     "data": {
      "text/html": [
       "<div>\n",
       "<style scoped>\n",
       "    .dataframe tbody tr th:only-of-type {\n",
       "        vertical-align: middle;\n",
       "    }\n",
       "\n",
       "    .dataframe tbody tr th {\n",
       "        vertical-align: top;\n",
       "    }\n",
       "\n",
       "    .dataframe thead th {\n",
       "        text-align: right;\n",
       "    }\n",
       "</style>\n",
       "<table border=\"1\" class=\"dataframe\">\n",
       "  <thead>\n",
       "    <tr style=\"text-align: right;\">\n",
       "      <th>SNPs_POS</th>\n",
       "      <th>chr16:88165</th>\n",
       "      <th>chr16:95254</th>\n",
       "      <th>chr16:97354</th>\n",
       "      <th>chr16:101263</th>\n",
       "      <th>chr16:103423</th>\n",
       "      <th>chr16:103456</th>\n",
       "      <th>chr16:105320</th>\n",
       "      <th>chr16:105444</th>\n",
       "      <th>chr16:107275</th>\n",
       "      <th>chr16:110165</th>\n",
       "      <th>...</th>\n",
       "      <th>chr16:90132786</th>\n",
       "      <th>chr16:90134325</th>\n",
       "      <th>chr16:90141355</th>\n",
       "      <th>chr16:90141477</th>\n",
       "      <th>chr16:90148979</th>\n",
       "      <th>chr16:90149922</th>\n",
       "      <th>chr16:90163275</th>\n",
       "      <th>group_id</th>\n",
       "      <th>ancestry_group</th>\n",
       "      <th>class</th>\n",
       "    </tr>\n",
       "  </thead>\n",
       "  <tbody>\n",
       "    <tr>\n",
       "      <th>HG00096</th>\n",
       "      <td>0</td>\n",
       "      <td>0</td>\n",
       "      <td>0</td>\n",
       "      <td>1</td>\n",
       "      <td>1</td>\n",
       "      <td>0</td>\n",
       "      <td>1</td>\n",
       "      <td>1</td>\n",
       "      <td>1</td>\n",
       "      <td>1</td>\n",
       "      <td>...</td>\n",
       "      <td>0</td>\n",
       "      <td>0</td>\n",
       "      <td>2</td>\n",
       "      <td>2</td>\n",
       "      <td>2</td>\n",
       "      <td>0</td>\n",
       "      <td>2</td>\n",
       "      <td>GBR</td>\n",
       "      <td>European</td>\n",
       "      <td>4</td>\n",
       "    </tr>\n",
       "    <tr>\n",
       "      <th>HG00097</th>\n",
       "      <td>0</td>\n",
       "      <td>0</td>\n",
       "      <td>0</td>\n",
       "      <td>2</td>\n",
       "      <td>2</td>\n",
       "      <td>0</td>\n",
       "      <td>2</td>\n",
       "      <td>2</td>\n",
       "      <td>2</td>\n",
       "      <td>2</td>\n",
       "      <td>...</td>\n",
       "      <td>0</td>\n",
       "      <td>0</td>\n",
       "      <td>2</td>\n",
       "      <td>2</td>\n",
       "      <td>2</td>\n",
       "      <td>0</td>\n",
       "      <td>2</td>\n",
       "      <td>GBR</td>\n",
       "      <td>European</td>\n",
       "      <td>4</td>\n",
       "    </tr>\n",
       "    <tr>\n",
       "      <th>HG00099</th>\n",
       "      <td>0</td>\n",
       "      <td>0</td>\n",
       "      <td>0</td>\n",
       "      <td>2</td>\n",
       "      <td>2</td>\n",
       "      <td>0</td>\n",
       "      <td>2</td>\n",
       "      <td>2</td>\n",
       "      <td>2</td>\n",
       "      <td>2</td>\n",
       "      <td>...</td>\n",
       "      <td>0</td>\n",
       "      <td>0</td>\n",
       "      <td>0</td>\n",
       "      <td>2</td>\n",
       "      <td>2</td>\n",
       "      <td>1</td>\n",
       "      <td>2</td>\n",
       "      <td>GBR</td>\n",
       "      <td>European</td>\n",
       "      <td>4</td>\n",
       "    </tr>\n",
       "    <tr>\n",
       "      <th>HG00100</th>\n",
       "      <td>0</td>\n",
       "      <td>0</td>\n",
       "      <td>0</td>\n",
       "      <td>1</td>\n",
       "      <td>1</td>\n",
       "      <td>0</td>\n",
       "      <td>1</td>\n",
       "      <td>1</td>\n",
       "      <td>1</td>\n",
       "      <td>1</td>\n",
       "      <td>...</td>\n",
       "      <td>0</td>\n",
       "      <td>0</td>\n",
       "      <td>1</td>\n",
       "      <td>2</td>\n",
       "      <td>2</td>\n",
       "      <td>1</td>\n",
       "      <td>1</td>\n",
       "      <td>GBR</td>\n",
       "      <td>European</td>\n",
       "      <td>4</td>\n",
       "    </tr>\n",
       "    <tr>\n",
       "      <th>HG00101</th>\n",
       "      <td>0</td>\n",
       "      <td>0</td>\n",
       "      <td>0</td>\n",
       "      <td>2</td>\n",
       "      <td>2</td>\n",
       "      <td>0</td>\n",
       "      <td>2</td>\n",
       "      <td>2</td>\n",
       "      <td>2</td>\n",
       "      <td>2</td>\n",
       "      <td>...</td>\n",
       "      <td>0</td>\n",
       "      <td>0</td>\n",
       "      <td>1</td>\n",
       "      <td>2</td>\n",
       "      <td>2</td>\n",
       "      <td>1</td>\n",
       "      <td>1</td>\n",
       "      <td>GBR</td>\n",
       "      <td>European</td>\n",
       "      <td>4</td>\n",
       "    </tr>\n",
       "  </tbody>\n",
       "</table>\n",
       "<p>5 rows × 28625 columns</p>\n",
       "</div>"
      ],
      "text/plain": [
       "SNPs_POS chr16:88165 chr16:95254 chr16:97354 chr16:101263 chr16:103423  \\\n",
       "HG00096            0           0           0            1            1   \n",
       "HG00097            0           0           0            2            2   \n",
       "HG00099            0           0           0            2            2   \n",
       "HG00100            0           0           0            1            1   \n",
       "HG00101            0           0           0            2            2   \n",
       "\n",
       "SNPs_POS chr16:103456 chr16:105320 chr16:105444 chr16:107275 chr16:110165  \\\n",
       "HG00096             0            1            1            1            1   \n",
       "HG00097             0            2            2            2            2   \n",
       "HG00099             0            2            2            2            2   \n",
       "HG00100             0            1            1            1            1   \n",
       "HG00101             0            2            2            2            2   \n",
       "\n",
       "SNPs_POS  ... chr16:90132786 chr16:90134325 chr16:90141355 chr16:90141477  \\\n",
       "HG00096   ...              0              0              2              2   \n",
       "HG00097   ...              0              0              2              2   \n",
       "HG00099   ...              0              0              0              2   \n",
       "HG00100   ...              0              0              1              2   \n",
       "HG00101   ...              0              0              1              2   \n",
       "\n",
       "SNPs_POS chr16:90148979 chr16:90149922 chr16:90163275 group_id ancestry_group  \\\n",
       "HG00096               2              0              2      GBR       European   \n",
       "HG00097               2              0              2      GBR       European   \n",
       "HG00099               2              1              2      GBR       European   \n",
       "HG00100               2              1              1      GBR       European   \n",
       "HG00101               2              1              1      GBR       European   \n",
       "\n",
       "SNPs_POS class  \n",
       "HG00096      4  \n",
       "HG00097      4  \n",
       "HG00099      4  \n",
       "HG00100      4  \n",
       "HG00101      4  \n",
       "\n",
       "[5 rows x 28625 columns]"
      ]
     },
     "execution_count": 17,
     "metadata": {},
     "output_type": "execute_result"
    }
   ],
   "source": [
    "snps.head()"
   ]
  },
  {
   "cell_type": "markdown",
   "id": "nominated-ethiopia",
   "metadata": {},
   "source": [
    "## Data split"
   ]
  },
  {
   "cell_type": "markdown",
   "id": "atmospheric-pressure",
   "metadata": {},
   "source": [
    "We randomly split the data into 75% train and 25% test."
   ]
  },
  {
   "cell_type": "code",
   "execution_count": 18,
   "id": "north-helmet",
   "metadata": {},
   "outputs": [],
   "source": [
    "from sklearn.model_selection import train_test_split"
   ]
  },
  {
   "cell_type": "code",
   "execution_count": 19,
   "id": "exceptional-beatles",
   "metadata": {},
   "outputs": [],
   "source": [
    "#Select the columns of features\n",
    "X=snps.loc[: , (snps.columns != 'group_id') & (snps.columns != 'ancestry_group') & (snps.columns != 'class')]"
   ]
  },
  {
   "cell_type": "code",
   "execution_count": 20,
   "id": "powerful-booking",
   "metadata": {},
   "outputs": [
    {
     "data": {
      "text/html": [
       "<div>\n",
       "<style scoped>\n",
       "    .dataframe tbody tr th:only-of-type {\n",
       "        vertical-align: middle;\n",
       "    }\n",
       "\n",
       "    .dataframe tbody tr th {\n",
       "        vertical-align: top;\n",
       "    }\n",
       "\n",
       "    .dataframe thead th {\n",
       "        text-align: right;\n",
       "    }\n",
       "</style>\n",
       "<table border=\"1\" class=\"dataframe\">\n",
       "  <thead>\n",
       "    <tr style=\"text-align: right;\">\n",
       "      <th>SNPs_POS</th>\n",
       "      <th>chr16:88165</th>\n",
       "      <th>chr16:95254</th>\n",
       "      <th>chr16:97354</th>\n",
       "      <th>chr16:101263</th>\n",
       "      <th>chr16:103423</th>\n",
       "      <th>chr16:103456</th>\n",
       "      <th>chr16:105320</th>\n",
       "      <th>chr16:105444</th>\n",
       "      <th>chr16:107275</th>\n",
       "      <th>chr16:110165</th>\n",
       "      <th>...</th>\n",
       "      <th>chr16:90125731</th>\n",
       "      <th>chr16:90125947</th>\n",
       "      <th>chr16:90127080</th>\n",
       "      <th>chr16:90132786</th>\n",
       "      <th>chr16:90134325</th>\n",
       "      <th>chr16:90141355</th>\n",
       "      <th>chr16:90141477</th>\n",
       "      <th>chr16:90148979</th>\n",
       "      <th>chr16:90149922</th>\n",
       "      <th>chr16:90163275</th>\n",
       "    </tr>\n",
       "  </thead>\n",
       "  <tbody>\n",
       "    <tr>\n",
       "      <th>HG00096</th>\n",
       "      <td>0</td>\n",
       "      <td>0</td>\n",
       "      <td>0</td>\n",
       "      <td>1</td>\n",
       "      <td>1</td>\n",
       "      <td>0</td>\n",
       "      <td>1</td>\n",
       "      <td>1</td>\n",
       "      <td>1</td>\n",
       "      <td>1</td>\n",
       "      <td>...</td>\n",
       "      <td>0</td>\n",
       "      <td>0</td>\n",
       "      <td>0</td>\n",
       "      <td>0</td>\n",
       "      <td>0</td>\n",
       "      <td>1</td>\n",
       "      <td>1</td>\n",
       "      <td>1</td>\n",
       "      <td>0</td>\n",
       "      <td>1</td>\n",
       "    </tr>\n",
       "    <tr>\n",
       "      <th>HG00097</th>\n",
       "      <td>0</td>\n",
       "      <td>0</td>\n",
       "      <td>0</td>\n",
       "      <td>1</td>\n",
       "      <td>1</td>\n",
       "      <td>0</td>\n",
       "      <td>1</td>\n",
       "      <td>1</td>\n",
       "      <td>1</td>\n",
       "      <td>1</td>\n",
       "      <td>...</td>\n",
       "      <td>0</td>\n",
       "      <td>0</td>\n",
       "      <td>0</td>\n",
       "      <td>0</td>\n",
       "      <td>0</td>\n",
       "      <td>1</td>\n",
       "      <td>1</td>\n",
       "      <td>1</td>\n",
       "      <td>0</td>\n",
       "      <td>1</td>\n",
       "    </tr>\n",
       "    <tr>\n",
       "      <th>HG00099</th>\n",
       "      <td>0</td>\n",
       "      <td>0</td>\n",
       "      <td>0</td>\n",
       "      <td>1</td>\n",
       "      <td>1</td>\n",
       "      <td>0</td>\n",
       "      <td>1</td>\n",
       "      <td>1</td>\n",
       "      <td>1</td>\n",
       "      <td>1</td>\n",
       "      <td>...</td>\n",
       "      <td>0</td>\n",
       "      <td>0</td>\n",
       "      <td>1</td>\n",
       "      <td>0</td>\n",
       "      <td>0</td>\n",
       "      <td>0</td>\n",
       "      <td>1</td>\n",
       "      <td>1</td>\n",
       "      <td>1</td>\n",
       "      <td>1</td>\n",
       "    </tr>\n",
       "    <tr>\n",
       "      <th>HG00100</th>\n",
       "      <td>0</td>\n",
       "      <td>0</td>\n",
       "      <td>0</td>\n",
       "      <td>1</td>\n",
       "      <td>1</td>\n",
       "      <td>0</td>\n",
       "      <td>1</td>\n",
       "      <td>1</td>\n",
       "      <td>1</td>\n",
       "      <td>1</td>\n",
       "      <td>...</td>\n",
       "      <td>0</td>\n",
       "      <td>0</td>\n",
       "      <td>1</td>\n",
       "      <td>0</td>\n",
       "      <td>0</td>\n",
       "      <td>1</td>\n",
       "      <td>1</td>\n",
       "      <td>1</td>\n",
       "      <td>1</td>\n",
       "      <td>1</td>\n",
       "    </tr>\n",
       "    <tr>\n",
       "      <th>HG00101</th>\n",
       "      <td>0</td>\n",
       "      <td>0</td>\n",
       "      <td>0</td>\n",
       "      <td>1</td>\n",
       "      <td>1</td>\n",
       "      <td>0</td>\n",
       "      <td>1</td>\n",
       "      <td>1</td>\n",
       "      <td>1</td>\n",
       "      <td>1</td>\n",
       "      <td>...</td>\n",
       "      <td>0</td>\n",
       "      <td>0</td>\n",
       "      <td>1</td>\n",
       "      <td>0</td>\n",
       "      <td>0</td>\n",
       "      <td>1</td>\n",
       "      <td>1</td>\n",
       "      <td>1</td>\n",
       "      <td>1</td>\n",
       "      <td>1</td>\n",
       "    </tr>\n",
       "  </tbody>\n",
       "</table>\n",
       "<p>5 rows × 28622 columns</p>\n",
       "</div>"
      ],
      "text/plain": [
       "SNPs_POS  chr16:88165  chr16:95254  chr16:97354  chr16:101263  chr16:103423  \\\n",
       "HG00096             0            0            0             1             1   \n",
       "HG00097             0            0            0             1             1   \n",
       "HG00099             0            0            0             1             1   \n",
       "HG00100             0            0            0             1             1   \n",
       "HG00101             0            0            0             1             1   \n",
       "\n",
       "SNPs_POS  chr16:103456  chr16:105320  chr16:105444  chr16:107275  \\\n",
       "HG00096              0             1             1             1   \n",
       "HG00097              0             1             1             1   \n",
       "HG00099              0             1             1             1   \n",
       "HG00100              0             1             1             1   \n",
       "HG00101              0             1             1             1   \n",
       "\n",
       "SNPs_POS  chr16:110165  ...  chr16:90125731  chr16:90125947  chr16:90127080  \\\n",
       "HG00096              1  ...               0               0               0   \n",
       "HG00097              1  ...               0               0               0   \n",
       "HG00099              1  ...               0               0               1   \n",
       "HG00100              1  ...               0               0               1   \n",
       "HG00101              1  ...               0               0               1   \n",
       "\n",
       "SNPs_POS  chr16:90132786  chr16:90134325  chr16:90141355  chr16:90141477  \\\n",
       "HG00096                0               0               1               1   \n",
       "HG00097                0               0               1               1   \n",
       "HG00099                0               0               0               1   \n",
       "HG00100                0               0               1               1   \n",
       "HG00101                0               0               1               1   \n",
       "\n",
       "SNPs_POS  chr16:90148979  chr16:90149922  chr16:90163275  \n",
       "HG00096                1               0               1  \n",
       "HG00097                1               0               1  \n",
       "HG00099                1               1               1  \n",
       "HG00100                1               1               1  \n",
       "HG00101                1               1               1  \n",
       "\n",
       "[5 rows x 28622 columns]"
      ]
     },
     "execution_count": 20,
     "metadata": {},
     "output_type": "execute_result"
    }
   ],
   "source": [
    "X = X.applymap(lambda x: 1 if int(x) >0 else 0)\n",
    "X.head()"
   ]
  },
  {
   "cell_type": "code",
   "execution_count": 21,
   "id": "focal-michigan",
   "metadata": {},
   "outputs": [
    {
     "data": {
      "text/html": [
       "<div>\n",
       "<style scoped>\n",
       "    .dataframe tbody tr th:only-of-type {\n",
       "        vertical-align: middle;\n",
       "    }\n",
       "\n",
       "    .dataframe tbody tr th {\n",
       "        vertical-align: top;\n",
       "    }\n",
       "\n",
       "    .dataframe thead th {\n",
       "        text-align: right;\n",
       "    }\n",
       "</style>\n",
       "<table border=\"1\" class=\"dataframe\">\n",
       "  <thead>\n",
       "    <tr style=\"text-align: right;\">\n",
       "      <th>SNPs_POS</th>\n",
       "      <th>class</th>\n",
       "    </tr>\n",
       "  </thead>\n",
       "  <tbody>\n",
       "    <tr>\n",
       "      <th>HG00096</th>\n",
       "      <td>4</td>\n",
       "    </tr>\n",
       "    <tr>\n",
       "      <th>HG00097</th>\n",
       "      <td>4</td>\n",
       "    </tr>\n",
       "    <tr>\n",
       "      <th>HG00099</th>\n",
       "      <td>4</td>\n",
       "    </tr>\n",
       "    <tr>\n",
       "      <th>HG00100</th>\n",
       "      <td>4</td>\n",
       "    </tr>\n",
       "    <tr>\n",
       "      <th>HG00101</th>\n",
       "      <td>4</td>\n",
       "    </tr>\n",
       "  </tbody>\n",
       "</table>\n",
       "</div>"
      ],
      "text/plain": [
       "SNPs_POS  class\n",
       "HG00096       4\n",
       "HG00097       4\n",
       "HG00099       4\n",
       "HG00100       4\n",
       "HG00101       4"
      ]
     },
     "execution_count": 21,
     "metadata": {},
     "output_type": "execute_result"
    }
   ],
   "source": [
    "#Select the class column\n",
    "Y=snps.loc[: , snps.columns == 'class']\n",
    "Y.head()"
   ]
  },
  {
   "cell_type": "code",
   "execution_count": 22,
   "id": "forced-blowing",
   "metadata": {},
   "outputs": [],
   "source": [
    "x_train, x_test, y_train, y_test = train_test_split(X, Y)"
   ]
  },
  {
   "cell_type": "markdown",
   "id": "cellular-criticism",
   "metadata": {},
   "source": [
    "# Methods"
   ]
  },
  {
   "cell_type": "code",
   "execution_count": 23,
   "id": "functioning-sense",
   "metadata": {},
   "outputs": [],
   "source": [
    "#chi2\n",
    "from sklearn.feature_selection import SelectKBest\n",
    "from sklearn.feature_selection import chi2\n",
    "#random\n",
    "import random\n",
    "#PCA\n",
    "from sklearn.decomposition import PCA\n",
    "## info_gain\n",
    "from collections import defaultdict\n",
    "from math import log"
   ]
  },
  {
   "cell_type": "markdown",
   "id": "discrete-debut",
   "metadata": {},
   "source": [
    "## chi2 selection"
   ]
  },
  {
   "cell_type": "markdown",
   "id": "right-mistake",
   "metadata": {},
   "source": [
    "Chi-square test is used for categorical features in a dataset. We calculate Chi-square between each feature and the target and select the desired number of features with best Chi-square scores. It determines if the association between two categorical variables of the sample would reflect their real association in the population."
   ]
  },
  {
   "cell_type": "code",
   "execution_count": 24,
   "id": "double-chocolate",
   "metadata": {},
   "outputs": [],
   "source": [
    "def chi2_selection(x_train,x_test,y_train,y_test,num):\n",
    "    test = SelectKBest(score_func=chi2, k=num).fit(x_train, y_train)\n",
    "    X_select_index = test.get_support(indices=True)\n",
    "    return X_select_index"
   ]
  },
  {
   "cell_type": "markdown",
   "id": "detected-typing",
   "metadata": {},
   "source": [
    "## Info Gain"
   ]
  },
  {
   "cell_type": "markdown",
   "id": "killing-analysis",
   "metadata": {},
   "source": [
    "Information gain is the reduction in entropy or surprise by transforming a dataset and is often used in training decision trees. Information gain is calculated by comparing the entropy of the dataset before and after a transformation."
   ]
  },
  {
   "cell_type": "code",
   "execution_count": 25,
   "id": "dress-bouquet",
   "metadata": {},
   "outputs": [],
   "source": [
    "def calcShannonEnt(Y):\n",
    "    numEntries = len(Y)\n",
    "    labelCounts = defaultdict(int)\n",
    "    for label in Y:\n",
    "        labelCounts[label] += 1\n",
    "    shannonEnt = 0.0\n",
    "    for key in labelCounts:\n",
    "        prob = float(labelCounts[key])/numEntries\n",
    "        shannonEnt -= prob * log(prob, 2)\n",
    "    return shannonEnt\n",
    "\n",
    "def calcInfoGain(dataset,Y):\n",
    "    baseEntropy = calcShannonEnt(Y)\n",
    "    InfoGain_list = []\n",
    "    for i in range(dataset.shape[0]):\n",
    "        subset_list = [[],[],[]]\n",
    "        for j in range(dataset.shape[1]):\n",
    "            subset_list[int(dataset[i,j])].append(j)\n",
    "        newEntropy = 0.0\n",
    "        splitInfo = 0.0\n",
    "        for value in [0,1,2]:\n",
    "            if len(subset_list[value])==0:\n",
    "                continue\n",
    "            prob = len(subset_list[value])/float(dataset.shape[1])\n",
    "            newEntropy += prob * calcShannonEnt(Y[subset_list[value]])\n",
    "            splitInfo += -prob * log(prob, 2)\n",
    "        infoGain = baseEntropy - newEntropy\n",
    "        if (splitInfo == 0):\n",
    "            continue\n",
    "        infoGainRatio = infoGain / splitInfo\n",
    "        InfoGain_list.append(infoGainRatio)\n",
    "    return InfoGain_list"
   ]
  },
  {
   "cell_type": "code",
   "execution_count": 26,
   "id": "negative-flour",
   "metadata": {},
   "outputs": [],
   "source": [
    "InfoGain_list = calcInfoGain(x_train.to_numpy().transpose(),y_train.to_numpy().transpose()[0])\n",
    "rank_infoGain = np.array(InfoGain_list).argsort()"
   ]
  },
  {
   "cell_type": "markdown",
   "id": "bizarre-paragraph",
   "metadata": {},
   "source": [
    "## Random Select"
   ]
  },
  {
   "cell_type": "markdown",
   "id": "developmental-emergency",
   "metadata": {},
   "source": [
    "random select certain number of SNPs "
   ]
  },
  {
   "cell_type": "code",
   "execution_count": 27,
   "id": "manufactured-dimension",
   "metadata": {},
   "outputs": [],
   "source": [
    "def random_select(k):\n",
    "    return random.sample(range(28622), k)"
   ]
  },
  {
   "cell_type": "markdown",
   "id": "excellent-shade",
   "metadata": {},
   "source": [
    "## PCA"
   ]
  },
  {
   "cell_type": "code",
   "execution_count": 28,
   "id": "delayed-choice",
   "metadata": {},
   "outputs": [],
   "source": [
    "def PCA_comparison(x_train,x_test):\n",
    "    pca = PCA(n_components=4).fit(x_train)\n",
    "    train_pca = pca.transform(x_train)\n",
    "    test_pca = pca.transform(x_test)\n",
    "    return train_pca,test_pca"
   ]
  },
  {
   "cell_type": "markdown",
   "id": "curious-yahoo",
   "metadata": {},
   "source": [
    "# Classification Results"
   ]
  },
  {
   "cell_type": "code",
   "execution_count": 29,
   "id": "uniform-adams",
   "metadata": {},
   "outputs": [],
   "source": [
    "from sklearn import svm\n",
    "from sklearn.neighbors import KNeighborsClassifier\n",
    "from sklearn.linear_model import LogisticRegression\n",
    "from sklearn.ensemble import RandomForestClassifier\n",
    "from sklearn import tree\n",
    "from sklearn.ensemble import  AdaBoostClassifier\n",
    "from sklearn.naive_bayes import MultinomialNB\n",
    "\n",
    "import time"
   ]
  },
  {
   "cell_type": "markdown",
   "id": "toxic-effect",
   "metadata": {},
   "source": [
    "## SVM"
   ]
  },
  {
   "cell_type": "code",
   "execution_count": 30,
   "id": "technological-screen",
   "metadata": {},
   "outputs": [],
   "source": [
    "def simple_SVM(X,Y,test_X,test_Y,method='svm_linear'):\n",
    "    #time0=time.time()\n",
    "    if method=='svm_linear' or method==0:\n",
    "        clf = svm.SVC(kernel='linear')\n",
    "    elif method=='KNeighbors' or method==1:\n",
    "        clf = KNeighborsClassifier()\n",
    "    elif method=='LogisticRegression' or method==2:\n",
    "        clf = LogisticRegression(penalty='l2')\n",
    "    elif method=='RandomForest' or method==3:\n",
    "        clf = RandomForestClassifier(n_estimators=8)\n",
    "    elif method=='DecisionTree' or method==4:\n",
    "        clf = tree.DecisionTreeClassifier()\n",
    "    elif method=='AdaBoost' or method==5:\n",
    "        clf = AdaBoostClassifier()\n",
    "    elif method=='Bayes' or method==6:\n",
    "        clf = MultinomialNB(alpha=0.01)\n",
    "    else:\n",
    "        print('Not implied!')\n",
    "        return None\n",
    "    \n",
    "    clf.fit(X,Y)\n",
    "    #print('Train time:',int(time.time()-time0))\n",
    "    train_score = clf.score(X, Y)\n",
    "    test_score = clf.score(test_X, test_Y)\n",
    "    #print('train acc:',train_score)\n",
    "    #print('test acc:',test_score)\n",
    "    return [train_score,test_score]"
   ]
  },
  {
   "cell_type": "code",
   "execution_count": 31,
   "id": "southeast-square",
   "metadata": {},
   "outputs": [],
   "source": [
    "def classfier_code(num):\n",
    "    if num == 0:\n",
    "        return \"svm_linear\"\n",
    "    elif num==1:\n",
    "        return \"KNeighbors\"\n",
    "    elif num==2:\n",
    "        return \"LogisticRegression\"\n",
    "    elif num==3:\n",
    "        return \"RandomForest\"\n",
    "    elif num==4:\n",
    "        return \"DecisionTree\"\n",
    "    elif num==5:\n",
    "        return \"AdaBoost\"\n",
    "    elif num==6:\n",
    "        return \"Bayes\"\n",
    "    else:\n",
    "        return None"
   ]
  },
  {
   "cell_type": "markdown",
   "id": "sensitive-extra",
   "metadata": {},
   "source": [
    "## Comparison"
   ]
  },
  {
   "cell_type": "code",
   "execution_count": 32,
   "id": "endangered-minute",
   "metadata": {},
   "outputs": [],
   "source": [
    "result = []\n",
    "for num in [10,50,100]:\n",
    "    for clf_num in range(2,7):\n",
    "        temp = []\n",
    "        temp.append(num)\n",
    "        temp.append(classfier_code(clf_num))\n",
    "        #chi2\n",
    "        idx = chi2_selection(x_train,x_test,y_train,y_test,num)\n",
    "        chi2_r = simple_SVM(x_train.iloc[:,idx],y_train,x_test.iloc[:,idx],y_test,clf_num)\n",
    "        temp.append(chi2_r[1])\n",
    "        #info gain\n",
    "        info_r = simple_SVM(x_train.iloc[:,rank_infoGain[-num:]],y_train,x_test.iloc[:,rank_infoGain[-num:]],y_test,clf_num)\n",
    "        temp.append(info_r[1])\n",
    "        #random\n",
    "        rl = random_select(num)\n",
    "        random_r = simple_SVM(x_train.iloc[:,rl],y_train,x_test.iloc[:,rl],y_test,clf_num)\n",
    "        temp.append(random_r[1])\n",
    "        result.append(temp)"
   ]
  },
  {
   "cell_type": "code",
   "execution_count": 33,
   "id": "secure-particle",
   "metadata": {},
   "outputs": [],
   "source": [
    "df = pd. DataFrame(result,columns = [\"#SNPs\", \"classfier\",\"chi2_accuracy\",\"info_gain_accuracy\",\"random_accuracy\"])"
   ]
  },
  {
   "cell_type": "code",
   "execution_count": 34,
   "id": "parallel-ordinary",
   "metadata": {},
   "outputs": [
    {
     "data": {
      "text/html": [
       "<div>\n",
       "<style scoped>\n",
       "    .dataframe tbody tr th:only-of-type {\n",
       "        vertical-align: middle;\n",
       "    }\n",
       "\n",
       "    .dataframe tbody tr th {\n",
       "        vertical-align: top;\n",
       "    }\n",
       "\n",
       "    .dataframe thead th {\n",
       "        text-align: right;\n",
       "    }\n",
       "</style>\n",
       "<table border=\"1\" class=\"dataframe\">\n",
       "  <thead>\n",
       "    <tr style=\"text-align: right;\">\n",
       "      <th></th>\n",
       "      <th>#SNPs</th>\n",
       "      <th>classfier</th>\n",
       "      <th>chi2_accuracy</th>\n",
       "      <th>info_gain_accuracy</th>\n",
       "      <th>random_accuracy</th>\n",
       "    </tr>\n",
       "  </thead>\n",
       "  <tbody>\n",
       "    <tr>\n",
       "      <th>0</th>\n",
       "      <td>10</td>\n",
       "      <td>LogisticRegression</td>\n",
       "      <td>0.571885</td>\n",
       "      <td>0.474441</td>\n",
       "      <td>0.437700</td>\n",
       "    </tr>\n",
       "    <tr>\n",
       "      <th>1</th>\n",
       "      <td>10</td>\n",
       "      <td>RandomForest</td>\n",
       "      <td>0.570288</td>\n",
       "      <td>0.431310</td>\n",
       "      <td>0.424920</td>\n",
       "    </tr>\n",
       "    <tr>\n",
       "      <th>2</th>\n",
       "      <td>10</td>\n",
       "      <td>DecisionTree</td>\n",
       "      <td>0.563898</td>\n",
       "      <td>0.436102</td>\n",
       "      <td>0.356230</td>\n",
       "    </tr>\n",
       "    <tr>\n",
       "      <th>3</th>\n",
       "      <td>10</td>\n",
       "      <td>AdaBoost</td>\n",
       "      <td>0.565495</td>\n",
       "      <td>0.392971</td>\n",
       "      <td>0.311502</td>\n",
       "    </tr>\n",
       "    <tr>\n",
       "      <th>4</th>\n",
       "      <td>10</td>\n",
       "      <td>Bayes</td>\n",
       "      <td>0.495208</td>\n",
       "      <td>0.460064</td>\n",
       "      <td>0.376997</td>\n",
       "    </tr>\n",
       "  </tbody>\n",
       "</table>\n",
       "</div>"
      ],
      "text/plain": [
       "   #SNPs           classfier  chi2_accuracy  info_gain_accuracy  \\\n",
       "0     10  LogisticRegression       0.571885            0.474441   \n",
       "1     10        RandomForest       0.570288            0.431310   \n",
       "2     10        DecisionTree       0.563898            0.436102   \n",
       "3     10            AdaBoost       0.565495            0.392971   \n",
       "4     10               Bayes       0.495208            0.460064   \n",
       "\n",
       "   random_accuracy  \n",
       "0         0.437700  \n",
       "1         0.424920  \n",
       "2         0.356230  \n",
       "3         0.311502  \n",
       "4         0.376997  "
      ]
     },
     "execution_count": 34,
     "metadata": {},
     "output_type": "execute_result"
    }
   ],
   "source": [
    "df[df[\"#SNPs\"]==10]"
   ]
  },
  {
   "cell_type": "code",
   "execution_count": 35,
   "id": "educational-trout",
   "metadata": {},
   "outputs": [
    {
     "data": {
      "text/html": [
       "<div>\n",
       "<style scoped>\n",
       "    .dataframe tbody tr th:only-of-type {\n",
       "        vertical-align: middle;\n",
       "    }\n",
       "\n",
       "    .dataframe tbody tr th {\n",
       "        vertical-align: top;\n",
       "    }\n",
       "\n",
       "    .dataframe thead th {\n",
       "        text-align: right;\n",
       "    }\n",
       "</style>\n",
       "<table border=\"1\" class=\"dataframe\">\n",
       "  <thead>\n",
       "    <tr style=\"text-align: right;\">\n",
       "      <th></th>\n",
       "      <th>#SNPs</th>\n",
       "      <th>classfier</th>\n",
       "      <th>chi2_accuracy</th>\n",
       "      <th>info_gain_accuracy</th>\n",
       "      <th>random_accuracy</th>\n",
       "    </tr>\n",
       "  </thead>\n",
       "  <tbody>\n",
       "    <tr>\n",
       "      <th>5</th>\n",
       "      <td>50</td>\n",
       "      <td>LogisticRegression</td>\n",
       "      <td>0.677316</td>\n",
       "      <td>0.646965</td>\n",
       "      <td>0.715655</td>\n",
       "    </tr>\n",
       "    <tr>\n",
       "      <th>6</th>\n",
       "      <td>50</td>\n",
       "      <td>RandomForest</td>\n",
       "      <td>0.629393</td>\n",
       "      <td>0.575080</td>\n",
       "      <td>0.578275</td>\n",
       "    </tr>\n",
       "    <tr>\n",
       "      <th>7</th>\n",
       "      <td>50</td>\n",
       "      <td>DecisionTree</td>\n",
       "      <td>0.591054</td>\n",
       "      <td>0.520767</td>\n",
       "      <td>0.488818</td>\n",
       "    </tr>\n",
       "    <tr>\n",
       "      <th>8</th>\n",
       "      <td>50</td>\n",
       "      <td>AdaBoost</td>\n",
       "      <td>0.531949</td>\n",
       "      <td>0.523962</td>\n",
       "      <td>0.608626</td>\n",
       "    </tr>\n",
       "    <tr>\n",
       "      <th>9</th>\n",
       "      <td>50</td>\n",
       "      <td>Bayes</td>\n",
       "      <td>0.568690</td>\n",
       "      <td>0.597444</td>\n",
       "      <td>0.701278</td>\n",
       "    </tr>\n",
       "  </tbody>\n",
       "</table>\n",
       "</div>"
      ],
      "text/plain": [
       "   #SNPs           classfier  chi2_accuracy  info_gain_accuracy  \\\n",
       "5     50  LogisticRegression       0.677316            0.646965   \n",
       "6     50        RandomForest       0.629393            0.575080   \n",
       "7     50        DecisionTree       0.591054            0.520767   \n",
       "8     50            AdaBoost       0.531949            0.523962   \n",
       "9     50               Bayes       0.568690            0.597444   \n",
       "\n",
       "   random_accuracy  \n",
       "5         0.715655  \n",
       "6         0.578275  \n",
       "7         0.488818  \n",
       "8         0.608626  \n",
       "9         0.701278  "
      ]
     },
     "execution_count": 35,
     "metadata": {},
     "output_type": "execute_result"
    }
   ],
   "source": [
    "df[df[\"#SNPs\"]==50]"
   ]
  },
  {
   "cell_type": "code",
   "execution_count": 36,
   "id": "polar-offer",
   "metadata": {},
   "outputs": [
    {
     "data": {
      "text/html": [
       "<div>\n",
       "<style scoped>\n",
       "    .dataframe tbody tr th:only-of-type {\n",
       "        vertical-align: middle;\n",
       "    }\n",
       "\n",
       "    .dataframe tbody tr th {\n",
       "        vertical-align: top;\n",
       "    }\n",
       "\n",
       "    .dataframe thead th {\n",
       "        text-align: right;\n",
       "    }\n",
       "</style>\n",
       "<table border=\"1\" class=\"dataframe\">\n",
       "  <thead>\n",
       "    <tr style=\"text-align: right;\">\n",
       "      <th></th>\n",
       "      <th>#SNPs</th>\n",
       "      <th>classfier</th>\n",
       "      <th>chi2_accuracy</th>\n",
       "      <th>info_gain_accuracy</th>\n",
       "      <th>random_accuracy</th>\n",
       "    </tr>\n",
       "  </thead>\n",
       "  <tbody>\n",
       "    <tr>\n",
       "      <th>10</th>\n",
       "      <td>100</td>\n",
       "      <td>LogisticRegression</td>\n",
       "      <td>0.702875</td>\n",
       "      <td>0.761981</td>\n",
       "      <td>0.753994</td>\n",
       "    </tr>\n",
       "    <tr>\n",
       "      <th>11</th>\n",
       "      <td>100</td>\n",
       "      <td>RandomForest</td>\n",
       "      <td>0.666134</td>\n",
       "      <td>0.699681</td>\n",
       "      <td>0.682109</td>\n",
       "    </tr>\n",
       "    <tr>\n",
       "      <th>12</th>\n",
       "      <td>100</td>\n",
       "      <td>DecisionTree</td>\n",
       "      <td>0.592652</td>\n",
       "      <td>0.621406</td>\n",
       "      <td>0.547923</td>\n",
       "    </tr>\n",
       "    <tr>\n",
       "      <th>13</th>\n",
       "      <td>100</td>\n",
       "      <td>AdaBoost</td>\n",
       "      <td>0.531949</td>\n",
       "      <td>0.514377</td>\n",
       "      <td>0.492013</td>\n",
       "    </tr>\n",
       "    <tr>\n",
       "      <th>14</th>\n",
       "      <td>100</td>\n",
       "      <td>Bayes</td>\n",
       "      <td>0.640575</td>\n",
       "      <td>0.734824</td>\n",
       "      <td>0.718850</td>\n",
       "    </tr>\n",
       "  </tbody>\n",
       "</table>\n",
       "</div>"
      ],
      "text/plain": [
       "    #SNPs           classfier  chi2_accuracy  info_gain_accuracy  \\\n",
       "10    100  LogisticRegression       0.702875            0.761981   \n",
       "11    100        RandomForest       0.666134            0.699681   \n",
       "12    100        DecisionTree       0.592652            0.621406   \n",
       "13    100            AdaBoost       0.531949            0.514377   \n",
       "14    100               Bayes       0.640575            0.734824   \n",
       "\n",
       "    random_accuracy  \n",
       "10         0.753994  \n",
       "11         0.682109  \n",
       "12         0.547923  \n",
       "13         0.492013  \n",
       "14         0.718850  "
      ]
     },
     "execution_count": 36,
     "metadata": {},
     "output_type": "execute_result"
    }
   ],
   "source": [
    "df[df[\"#SNPs\"]==100]"
   ]
  },
  {
   "cell_type": "code",
   "execution_count": 37,
   "id": "convinced-atmosphere",
   "metadata": {},
   "outputs": [
    {
     "data": {
      "text/html": [
       "<div>\n",
       "<style scoped>\n",
       "    .dataframe tbody tr th:only-of-type {\n",
       "        vertical-align: middle;\n",
       "    }\n",
       "\n",
       "    .dataframe tbody tr th {\n",
       "        vertical-align: top;\n",
       "    }\n",
       "\n",
       "    .dataframe thead th {\n",
       "        text-align: right;\n",
       "    }\n",
       "</style>\n",
       "<table border=\"1\" class=\"dataframe\">\n",
       "  <thead>\n",
       "    <tr style=\"text-align: right;\">\n",
       "      <th></th>\n",
       "      <th>#SNPs</th>\n",
       "      <th>classfier</th>\n",
       "      <th>chi2_accuracy</th>\n",
       "      <th>info_gain_accuracy</th>\n",
       "      <th>random_accuracy</th>\n",
       "    </tr>\n",
       "  </thead>\n",
       "  <tbody>\n",
       "  </tbody>\n",
       "</table>\n",
       "</div>"
      ],
      "text/plain": [
       "Empty DataFrame\n",
       "Columns: [#SNPs, classfier, chi2_accuracy, info_gain_accuracy, random_accuracy]\n",
       "Index: []"
      ]
     },
     "execution_count": 37,
     "metadata": {},
     "output_type": "execute_result"
    }
   ],
   "source": [
    "df[df[\"#SNPs\"]==500]"
   ]
  },
  {
   "cell_type": "code",
   "execution_count": 38,
   "id": "boolean-exposure",
   "metadata": {},
   "outputs": [
    {
     "data": {
      "text/html": [
       "<div>\n",
       "<style scoped>\n",
       "    .dataframe tbody tr th:only-of-type {\n",
       "        vertical-align: middle;\n",
       "    }\n",
       "\n",
       "    .dataframe tbody tr th {\n",
       "        vertical-align: top;\n",
       "    }\n",
       "\n",
       "    .dataframe thead th {\n",
       "        text-align: right;\n",
       "    }\n",
       "</style>\n",
       "<table border=\"1\" class=\"dataframe\">\n",
       "  <thead>\n",
       "    <tr style=\"text-align: right;\">\n",
       "      <th></th>\n",
       "      <th>#SNPs</th>\n",
       "      <th>classfier</th>\n",
       "      <th>chi2_accuracy</th>\n",
       "      <th>info_gain_accuracy</th>\n",
       "      <th>random_accuracy</th>\n",
       "    </tr>\n",
       "  </thead>\n",
       "  <tbody>\n",
       "  </tbody>\n",
       "</table>\n",
       "</div>"
      ],
      "text/plain": [
       "Empty DataFrame\n",
       "Columns: [#SNPs, classfier, chi2_accuracy, info_gain_accuracy, random_accuracy]\n",
       "Index: []"
      ]
     },
     "execution_count": 38,
     "metadata": {},
     "output_type": "execute_result"
    }
   ],
   "source": [
    "df[df[\"#SNPs\"]==1000]"
   ]
  },
  {
   "cell_type": "markdown",
   "id": "needed-hampshire",
   "metadata": {},
   "source": [
    "# Discussion"
   ]
  },
  {
   "cell_type": "markdown",
   "id": "biological-monster",
   "metadata": {},
   "source": [
    "## overlap"
   ]
  },
  {
   "cell_type": "code",
   "execution_count": 39,
   "id": "european-advice",
   "metadata": {},
   "outputs": [
    {
     "name": "stdout",
     "output_type": "stream",
     "text": [
      "Defaulting to user installation because normal site-packages is not writeable\n",
      "Requirement already satisfied: matplotlib_venn in /home/yid010/.local/lib/python3.8/site-packages (0.11.6)\n",
      "Requirement already satisfied: matplotlib in /opt/conda/lib/python3.8/site-packages (from matplotlib_venn) (3.3.3)\n",
      "Requirement already satisfied: scipy in /opt/conda/lib/python3.8/site-packages (from matplotlib_venn) (1.5.3)\n",
      "Requirement already satisfied: numpy in /opt/conda/lib/python3.8/site-packages (from matplotlib_venn) (1.19.5)\n",
      "Requirement already satisfied: pyparsing!=2.0.4,!=2.1.2,!=2.1.6,>=2.0.3 in /opt/conda/lib/python3.8/site-packages (from matplotlib->matplotlib_venn) (2.4.7)\n",
      "Requirement already satisfied: python-dateutil>=2.1 in /opt/conda/lib/python3.8/site-packages (from matplotlib->matplotlib_venn) (2.8.1)\n",
      "Requirement already satisfied: cycler>=0.10 in /opt/conda/lib/python3.8/site-packages (from matplotlib->matplotlib_venn) (0.10.0)\n",
      "Requirement already satisfied: pillow>=6.2.0 in /opt/conda/lib/python3.8/site-packages (from matplotlib->matplotlib_venn) (8.1.0)\n",
      "Requirement already satisfied: kiwisolver>=1.0.1 in /opt/conda/lib/python3.8/site-packages (from matplotlib->matplotlib_venn) (1.3.1)\n",
      "Requirement already satisfied: six in /opt/conda/lib/python3.8/site-packages (from cycler>=0.10->matplotlib->matplotlib_venn) (1.15.0)\n",
      "\u001b[33mWARNING: You are using pip version 20.3.3; however, version 21.1.2 is available.\n",
      "You should consider upgrading via the '/opt/conda/bin/python3.8 -m pip install --upgrade pip' command.\u001b[0m\n"
     ]
    }
   ],
   "source": [
    "!pip install matplotlib_venn \n",
    "import matplotlib.pyplot as plt\n",
    "import matplotlib_venn as venn"
   ]
  },
  {
   "cell_type": "code",
   "execution_count": 40,
   "id": "forced-space",
   "metadata": {},
   "outputs": [
    {
     "data": {
      "image/png": "[encoded data removed]",
      "text/plain": [
       "<Figure size 432x288 with 1 Axes>"
      ]
     },
     "metadata": {},
     "output_type": "display_data"
    },
    {
     "data": {
      "image/png": "[encoded data removed]",
      "text/plain": [
       "<Figure size 432x288 with 1 Axes>"
      ]
     },
     "metadata": {},
     "output_type": "display_data"
    },
    {
     "data": {
      "image/png": "[encoded data removed]",
      "text/plain": [
       "<Figure size 432x288 with 1 Axes>"
      ]
     },
     "metadata": {},
     "output_type": "display_data"
    }
   ],
   "source": [
    "for num in [10,50,100]:\n",
    "    chi2_idx = chi2_selection(x_train,x_test,y_train,y_test,num)\n",
    "    info_idx = rank_infoGain[-num:]\n",
    "    venn.venn2([chi2_idx, info_idx],set_labels=('chi2', 'info_gain'))\n",
    "    plt.show()"
   ]
  },
  {
   "cell_type": "code",
   "execution_count": 41,
   "id": "cooked-parks",
   "metadata": {},
   "outputs": [],
   "source": [
    "chi2_idx = chi2_selection(x_train,x_test,y_train,y_test,1000)\n",
    "info_idx = rank_infoGain[-1000:]"
   ]
  },
  {
   "cell_type": "code",
   "execution_count": 42,
   "id": "apparent-pricing",
   "metadata": {},
   "outputs": [],
   "source": [
    "intersection_set = set.intersection(set(chi2_idx), set(info_idx))\n",
    "overlap_idx = list(intersection_set)"
   ]
  },
  {
   "cell_type": "code",
   "execution_count": 43,
   "id": "black-direction",
   "metadata": {},
   "outputs": [
    {
     "data": {
      "text/plain": [
       "64"
      ]
     },
     "execution_count": 43,
     "metadata": {},
     "output_type": "execute_result"
    }
   ],
   "source": [
    "len(overlap_idx)"
   ]
  },
  {
   "cell_type": "code",
   "execution_count": 44,
   "id": "going-sleeping",
   "metadata": {},
   "outputs": [],
   "source": [
    "overlap = []\n",
    "for clf_num in range(7):\n",
    "    temp = []\n",
    "    temp.append(classfier_code(clf_num))\n",
    "    idx = chi2_selection(x_train,x_test,y_train,y_test,num)\n",
    "    acc = simple_SVM(x_train.iloc[:,overlap_idx],y_train,x_test.iloc[:,overlap_idx],y_test,clf_num)\n",
    "    temp.append(acc[1])\n",
    "    overlap.append(temp)"
   ]
  },
  {
   "cell_type": "code",
   "execution_count": 45,
   "id": "functional-olympus",
   "metadata": {},
   "outputs": [],
   "source": [
    "df_overlap = pd. DataFrame(overlap,columns = [\"classfier\",\"accuracy\"])"
   ]
  },
  {
   "cell_type": "code",
   "execution_count": 46,
   "id": "developed-studio",
   "metadata": {},
   "outputs": [
    {
     "data": {
      "text/html": [
       "<div>\n",
       "<style scoped>\n",
       "    .dataframe tbody tr th:only-of-type {\n",
       "        vertical-align: middle;\n",
       "    }\n",
       "\n",
       "    .dataframe tbody tr th {\n",
       "        vertical-align: top;\n",
       "    }\n",
       "\n",
       "    .dataframe thead th {\n",
       "        text-align: right;\n",
       "    }\n",
       "</style>\n",
       "<table border=\"1\" class=\"dataframe\">\n",
       "  <thead>\n",
       "    <tr style=\"text-align: right;\">\n",
       "      <th></th>\n",
       "      <th>classfier</th>\n",
       "      <th>accuracy</th>\n",
       "    </tr>\n",
       "  </thead>\n",
       "  <tbody>\n",
       "    <tr>\n",
       "      <th>0</th>\n",
       "      <td>svm_linear</td>\n",
       "      <td>0.704473</td>\n",
       "    </tr>\n",
       "    <tr>\n",
       "      <th>1</th>\n",
       "      <td>KNeighbors</td>\n",
       "      <td>0.638978</td>\n",
       "    </tr>\n",
       "    <tr>\n",
       "      <th>2</th>\n",
       "      <td>LogisticRegression</td>\n",
       "      <td>0.682109</td>\n",
       "    </tr>\n",
       "    <tr>\n",
       "      <th>3</th>\n",
       "      <td>RandomForest</td>\n",
       "      <td>0.659744</td>\n",
       "    </tr>\n",
       "    <tr>\n",
       "      <th>4</th>\n",
       "      <td>DecisionTree</td>\n",
       "      <td>0.613419</td>\n",
       "    </tr>\n",
       "    <tr>\n",
       "      <th>5</th>\n",
       "      <td>AdaBoost</td>\n",
       "      <td>0.503195</td>\n",
       "    </tr>\n",
       "    <tr>\n",
       "      <th>6</th>\n",
       "      <td>Bayes</td>\n",
       "      <td>0.669329</td>\n",
       "    </tr>\n",
       "  </tbody>\n",
       "</table>\n",
       "</div>"
      ],
      "text/plain": [
       "            classfier  accuracy\n",
       "0          svm_linear  0.704473\n",
       "1          KNeighbors  0.638978\n",
       "2  LogisticRegression  0.682109\n",
       "3        RandomForest  0.659744\n",
       "4        DecisionTree  0.613419\n",
       "5            AdaBoost  0.503195\n",
       "6               Bayes  0.669329"
      ]
     },
     "execution_count": 46,
     "metadata": {},
     "output_type": "execute_result"
    }
   ],
   "source": [
    "df_overlap"
   ]
  },
  {
   "cell_type": "markdown",
   "id": "artificial-expense",
   "metadata": {},
   "source": [
    "## classification_report"
   ]
  },
  {
   "cell_type": "code",
   "execution_count": 47,
   "id": "unlike-gibson",
   "metadata": {},
   "outputs": [],
   "source": [
    "from sklearn.metrics import confusion_matrix\n",
    "from sklearn.metrics import classification_report\n",
    "import numpy as np"
   ]
  },
  {
   "cell_type": "code",
   "execution_count": 48,
   "id": "middle-calibration",
   "metadata": {},
   "outputs": [],
   "source": [
    "def predict_value(X,Y,test_X,test_Y):\n",
    "    clf = LogisticRegression(penalty='l2') \n",
    "    clf.fit(X,Y)\n",
    "    return clf.predict(test_X)"
   ]
  },
  {
   "cell_type": "code",
   "execution_count": 49,
   "id": "classified-terrace",
   "metadata": {},
   "outputs": [],
   "source": [
    "target_names = [\"Admixed-African\",\"South-Asian\",\"East-Asian\",\"European\",\"American\",\"African\"]"
   ]
  },
  {
   "cell_type": "code",
   "execution_count": 50,
   "id": "continuing-template",
   "metadata": {},
   "outputs": [],
   "source": [
    "y_pred = predict_value(x_train,y_train,x_test,y_test)\n",
    "report = classification_report(y_test, y_pred, target_names=target_names)"
   ]
  },
  {
   "cell_type": "markdown",
   "id": "intense-cutting",
   "metadata": {},
   "source": [
    "## Plot"
   ]
  },
  {
   "cell_type": "code",
   "execution_count": 51,
   "id": "convenient-aside",
   "metadata": {},
   "outputs": [],
   "source": [
    "import numpy as np\n",
    "import matplotlib.pyplot as plt\n",
    "from matplotlib.colors import ListedColormap"
   ]
  },
  {
   "cell_type": "code",
   "execution_count": 52,
   "id": "daily-shuttle",
   "metadata": {},
   "outputs": [],
   "source": [
    "def plot_classification_report(cr, ax, fig, title_f='Classification report ', with_avg_total=False, cmap=plt.cm.Blues):\n",
    "    lines = cr.split('\\n')\n",
    "    classes = []\n",
    "    plotMat = []\n",
    "    for line in lines[2 : (len(lines) - 3)]:\n",
    "        #print(line)\n",
    "        t = line.split()\n",
    "        if len(t)>3:\n",
    "            classes.append(t[0])\n",
    "            v = [float(x) for x in t[1: len(t) - 1]]\n",
    "            plotMat.append(v)\n",
    "    if with_avg_total:\n",
    "        aveTotal = lines[len(lines) - 3].split()\n",
    "        classes.append('avg/total')\n",
    "        vAveTotal = [float(x) for x in aveTotal[2:len(aveTotal) - 1]]\n",
    "        plotMat.append(vAveTotal)\n",
    "\n",
    "    im = ax.imshow(plotMat, interpolation='nearest', cmap=cmap)\n",
    "    ax.set_title(title_f)\n",
    "    fig.colorbar(im, ax=ax)\n",
    "    \n",
    "    x_tick_marks = np.arange(3)\n",
    "    y_tick_marks = np.arange(len(classes))\n",
    "    ax.set_xticks(x_tick_marks)\n",
    "    ax.set_xticklabels(['precision', 'recall', 'f1-score'], rotation=45)\n",
    "    ax.set_yticks(y_tick_marks)\n",
    "    ax.set_yticklabels(classes)\n",
    "    ax.set_ylabel('Classes')\n",
    "#     ax.set_xlabel('Measures')"
   ]
  },
  {
   "cell_type": "code",
   "execution_count": 53,
   "id": "earlier-palestinian",
   "metadata": {
    "scrolled": false
   },
   "outputs": [
    {
     "name": "stdout",
     "output_type": "stream",
     "text": [
      "end\n"
     ]
    },
    {
     "data": {
      "image/png": "[encoded data removed]",
      "text/plain": [
       "<Figure size 576x1296 with 12 Axes>"
      ]
     },
     "metadata": {
      "needs_background": "light"
     },
     "output_type": "display_data"
    }
   ],
   "source": [
    "nums = [5, 10, 20] # TODO select these number, maybe use 10 50 100?\n",
    "\n",
    "fig, axs = plt.subplots(len(nums), 2, squeeze=False, figsize=(8, 6 * len(nums)))\n",
    "# plt.tight_layout()\n",
    "count = 0\n",
    "\n",
    "for idx, num in enumerate(nums):\n",
    "    #chi2\n",
    "    chi2_idx = chi2_selection(x_train,x_test,y_train,y_test,num)\n",
    "    y_pred_chi2 = predict_value(x_train.iloc[:,chi2_idx],y_train,x_test.iloc[:,chi2_idx],y_test)\n",
    "    report = classification_report(y_test, y_pred_chi2, target_names=target_names)\n",
    "    plot_classification_report(report, axs[idx][0], fig, title_f=f\"chi2 {num}\", with_avg_total=True)\n",
    "    #info_gain\n",
    "    info_idx = rank_infoGain[-num:]\n",
    "    y_pred = predict_value(x_train.iloc[:,info_idx],y_train,x_test.iloc[:,info_idx],y_test)\n",
    "    report_info = classification_report(y_test, y_pred, target_names=target_names)\n",
    "    plot_classification_report(report_info, axs[idx][1], fig, title_f=f\"info_gain {num}\", with_avg_total=True)\n",
    "    count+=1\n",
    "print(\"end\")\n",
    "plt.show()"
   ]
  },
  {
   "cell_type": "code",
   "execution_count": 54,
   "id": "wound-caribbean",
   "metadata": {},
   "outputs": [
    {
     "data": {
      "image/png": "[encoded data removed]",
      "text/plain": [
       "<Figure size 432x288 with 2 Axes>"
      ]
     },
     "metadata": {
      "needs_background": "light"
     },
     "output_type": "display_data"
    }
   ],
   "source": [
    "plot_classification_report(report,plt.gca(), plt.gcf(), with_avg_total=True)"
   ]
  },
  {
   "cell_type": "code",
   "execution_count": null,
   "id": "computational-prayer",
   "metadata": {},
   "outputs": [],
   "source": []
  },
  {
   "cell_type": "markdown",
   "id": "wanted-municipality",
   "metadata": {},
   "source": [
    "# Summary"
   ]
  },
  {
   "cell_type": "code",
   "execution_count": null,
   "id": "correct-resident",
   "metadata": {},
   "outputs": [],
   "source": []
  }
 ],
 "metadata": {
  "kernelspec": {
   "display_name": "Python 3",
   "language": "python",
   "name": "python3"
  },
  "language_info": {
   "codemirror_mode": {
    "name": "ipython",
    "version": 3
   },
   "file_extension": ".py",
   "mimetype": "text/x-python",
   "name": "python",
   "nbconvert_exporter": "python",
   "pygments_lexer": "ipython3",
   "version": "3.8.6"
  }
 },
 "nbformat": 4,
 "nbformat_minor": 5
}
