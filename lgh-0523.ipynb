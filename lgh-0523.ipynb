{
 "cells": [
  {
   "cell_type": "code",
   "execution_count": null,
   "id": "complex-issue",
   "metadata": {},
   "outputs": [],
   "source": [
    "import numpy as np\n",
    "import os\n",
    "import pandas as pd\n",
    "from sklearn import svm\n",
    "import time\n",
    "\n",
    "geno = np.loadtxt('/datasets/cs284-sp21-A00-public/ps2/precomputed/ps2_pca.genotypes.tab') # (28622 SNPs, 2504 people)\n",
    "pop_6 = np.load('pop_6.npy')"
   ]
  },
  {
   "cell_type": "code",
   "execution_count": null,
   "id": "vanilla-complement",
   "metadata": {},
   "outputs": [],
   "source": [
    "train = geno[:,:2000]\n",
    "test = geno[:,2000:]\n",
    "train_Y = pop_6[:2000]\n",
    "test_Y = pop_6[2000:]"
   ]
  },
  {
   "cell_type": "markdown",
   "id": "advisory-degree",
   "metadata": {},
   "source": [
    "数据集0.8/0.2划分，可以尝试些别的分类算法。直接在整个数据集上run的时间非常长"
   ]
  },
  {
   "cell_type": "code",
   "execution_count": null,
   "id": "greenhouse-thanks",
   "metadata": {},
   "outputs": [],
   "source": [
    "def simple_SVM(X,Y,test_X,test_Y):\n",
    "    time0=time.time()\n",
    "    \n",
    "    clf = svm.SVC(kernel='linear')\n",
    "    clf.fit(X,Y)\n",
    "    \n",
    "    print('Train time:',time.time()-time0)\n",
    "    \n",
    "    print('train acc:',clf.score(X, Y))\n",
    "    print('test acc:',clf.score(test_X, test_Y))"
   ]
  },
  {
   "cell_type": "code",
   "execution_count": null,
   "id": "private-least",
   "metadata": {},
   "outputs": [],
   "source": [
    "simple_SVM(train.T,train_Y,test.T,test_Y)"
   ]
  }
 ],
 "metadata": {
  "kernelspec": {
   "display_name": "Python 3",
   "language": "python",
   "name": "python3"
  },
  "language_info": {
   "codemirror_mode": {
    "name": "ipython",
    "version": 3
   },
   "file_extension": ".py",
   "mimetype": "text/x-python",
   "name": "python",
   "nbconvert_exporter": "python",
   "pygments_lexer": "ipython3",
   "version": "3.8.6"
  }
 },
 "nbformat": 4,
 "nbformat_minor": 5
}
